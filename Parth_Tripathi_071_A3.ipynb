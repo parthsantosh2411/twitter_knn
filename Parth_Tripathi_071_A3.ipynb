{
  "cells": [
    {
      "cell_type": "markdown",
      "metadata": {
        "id": "view-in-github",
        "colab_type": "text"
      },
      "source": [
        "<a href=\"https://colab.research.google.com/github/parthsantosh2411/twitter_sentimental_analysis-/blob/main/Parth_Tripathi_071_A3.ipynb\" target=\"_parent\"><img src=\"https://colab.research.google.com/assets/colab-badge.svg\" alt=\"Open In Colab\"/></a>"
      ]
    },
    {
      "cell_type": "markdown",
      "metadata": {
        "id": "Gg0X8mmC6InC"
      },
      "source": [
        "NAME-Parth Santosh Tripathi\n",
        "\n",
        "BATCH-A3\n",
        "\n",
        "PRN-2207012671"
      ]
    },
    {
      "cell_type": "code",
      "execution_count": null,
      "metadata": {
        "id": "cOrjabk_6InE"
      },
      "outputs": [],
      "source": [
        "import pandas as pd\n",
        "import numpy as np\n",
        "import re\n",
        "import nltk\n",
        "from nltk.corpus import stopwords\n",
        "from nltk.tokenize import word_tokenize\n",
        "from nltk.stem import WordNetLemmatizer\n",
        "from sklearn.model_selection import train_test_split\n",
        "from sklearn.preprocessing import LabelEncoder\n",
        "from sklearn.feature_extraction.text import CountVectorizer, TfidfVectorizer\n"
      ]
    },
    {
      "cell_type": "markdown",
      "metadata": {
        "id": "CED-Zwa-6InE"
      },
      "source": [
        " **Pandas (`pd`)**: Provides data structures for data manipulation and analysis. DataFrames are used for handling and processing structured data.\n",
        "   \n",
        "  - **NumPy (`np`)**: A core library for numerical operations, facilitating array handling and mathematical computations.\n",
        "   \n",
        "  \n",
        "  - **NLTK (Natural Language Toolkit)**:\n",
        "   \n",
        "   \n",
        "      - **Stopwords**: Common words (e.g., \"and\", \"the\") that are filtered out during text preprocessing.\n",
        "   \n",
        "      - **Tokenization (`word_tokenize`)**: Splits text into individual words or tokens.\n",
        "   \n",
        "      - **Lemmatization (`WordNetLemmatizer`)**: Reduces words to their base or root form (e.g., \"running\" becomes \"run\").\n",
        "   \n",
        "  - **Regular Expressions (`re`)**: Used for text preprocessing tasks such as cleaning text and removing unwanted characters.\n",
        "   \n",
        "  - **Scikit-learn**:\n",
        "   \n",
        "      - **`train_test_split`**: Splits the dataset into training and testing subsets.\n",
        "   \n",
        "      - **`LabelEncoder`**: Encodes categorical target labels into numerical values.\n",
        "   \n",
        "      - **`CountVectorizer` and `TfidfVectorizer`**: Convert text into numerical feature vectors for machine learning models.\n"
      ]
    },
    {
      "cell_type": "code",
      "execution_count": null,
      "metadata": {
        "id": "u1_TGIl76InF"
      },
      "outputs": [],
      "source": [
        "file_path = \"C:\\\\Users\\\\laksh\\\\Downloads\\\\archive\\\\training.1600000.processed.noemoticon.csv\"\n",
        "df = pd.read_csv(file_path, encoding='latin-1', header=None)\n",
        "df.columns = ['target', 'id', 'date', 'flag', 'user', 'text']\n"
      ]
    },
    {
      "cell_type": "markdown",
      "metadata": {
        "id": "qjR2YG3n6InF"
      },
      "source": [
        " - **`file_path`**: Specifies the location of the dataset file.\n",
        "    \n",
        "- **`pd.read_csv`**: Reads the CSV file into a DataFrame with `latin-1` encoding to handle special characters, and `header=None` to indicate the absence of header rows.\n",
        "\n",
        "- **Column Naming**: Assigns descriptive names to the columns: `target` for sentiment labels, `id`, `date`, `flag`, `user` for metadata, and `text` for tweet content."
      ]
    },
    {
      "cell_type": "code",
      "execution_count": null,
      "metadata": {
        "id": "TQqlZiCa6InF"
      },
      "outputs": [],
      "source": [
        "df = df[['text', 'target']]\n"
      ]
    },
    {
      "cell_type": "markdown",
      "metadata": {
        "id": "x9z8NNPL6InF"
      },
      "source": [
        "- **Column Filtering**: Keeps only the `text` and `target` columns necessary for the analysis, discarding irrelevant columns."
      ]
    },
    {
      "cell_type": "code",
      "execution_count": null,
      "metadata": {
        "id": "6gkXICQr6InF",
        "outputId": "31410f3e-b855-4876-80a4-8231a8fc4a78"
      },
      "outputs": [
        {
          "name": "stderr",
          "output_type": "stream",
          "text": [
            "[nltk_data] Downloading package punkt to\n",
            "[nltk_data]     C:\\Users\\laksh\\AppData\\Roaming\\nltk_data...\n",
            "[nltk_data]   Package punkt is already up-to-date!\n",
            "[nltk_data] Downloading package stopwords to\n",
            "[nltk_data]     C:\\Users\\laksh\\AppData\\Roaming\\nltk_data...\n",
            "[nltk_data]   Package stopwords is already up-to-date!\n",
            "[nltk_data] Downloading package wordnet to\n",
            "[nltk_data]     C:\\Users\\laksh\\AppData\\Roaming\\nltk_data...\n",
            "[nltk_data]   Package wordnet is already up-to-date!\n"
          ]
        },
        {
          "data": {
            "text/plain": [
              "True"
            ]
          },
          "execution_count": 5,
          "metadata": {},
          "output_type": "execute_result"
        }
      ],
      "source": [
        "nltk.download('punkt')\n",
        "nltk.download('stopwords')\n",
        "nltk.download('wordnet')\n"
      ]
    },
    {
      "cell_type": "markdown",
      "metadata": {
        "id": "J0zEWWRk6InG"
      },
      "source": [
        "- **`nltk.download('punkt')`**: Downloads tokenization models required for breaking text into sentences and words.\n",
        "\n",
        "- **`nltk.download('stopwords')`**: Provides a list of common English stopwords to be used in preprocessing.\n",
        "\n",
        "- **`nltk.download('wordnet')`**: Retrieves the WordNet corpus for lemmatization."
      ]
    },
    {
      "cell_type": "code",
      "execution_count": null,
      "metadata": {
        "id": "dpE5NiWP6InG"
      },
      "outputs": [],
      "source": [
        "stop_words = set(stopwords.words('english'))\n",
        "lemmatizer = WordNetLemmatizer()\n"
      ]
    },
    {
      "cell_type": "markdown",
      "metadata": {
        "id": "n6hWMbWy6InG"
      },
      "source": [
        "- **`stop_words`**: Initializes a set of English stopwords for filtering out common, non-informative words.\n",
        "\n",
        "- **`lemmatizer`**: Creates an instance of `WordNetLemmatizer` to reduce words to their base forms."
      ]
    },
    {
      "cell_type": "code",
      "execution_count": null,
      "metadata": {
        "id": "JdzTWjJp6InG"
      },
      "outputs": [],
      "source": [
        "def preprocess(text):\n",
        "    text = text.lower()\n",
        "    text = re.sub(r'http\\S+|www\\S+|https\\S+', '', text, flags=re.MULTILINE)  # Remove URLs\n",
        "    text = re.sub(r'@\\w+|\\#', '', text)  # Remove mentions and hashtags\n",
        "    text = re.sub(r'[^A-Za-z\\s]', '', text)  # Remove symbols and numbers\n",
        "    tokens = word_tokenize(text)\n",
        "    tokens = [lemmatizer.lemmatize(token) for token in tokens if token not in stop_words]\n",
        "    return ' '.join(tokens)\n"
      ]
    },
    {
      "cell_type": "markdown",
      "metadata": {
        "id": "PEye3Ujy6InH"
      },
      "source": [
        "- **Lowercasing**: Converts all text to lowercase to ensure uniformity.\n",
        "   \n",
        "- **Remove URLs**: Eliminates URLs from the text to focus on meaningful content.\n",
        "   \n",
        "- **Remove Mentions and Hashtags**: Removes Twitter-specific mentions (`@username`) and hashtags (`#hashtag`).\n",
        "   \n",
        "- **Remove Symbols and Numbers**: Filters out non-alphabetic characters to concentrate on words.\n",
        "   \n",
        "- **Tokenization**: Splits text into individual tokens (words).\n",
        "   \n",
        "- **Lemmatization**: Reduces each token to its base form.\n",
        "   \n",
        "- **Stopword Removal**: Excludes common words that do not add significant meaning."
      ]
    },
    {
      "cell_type": "code",
      "execution_count": null,
      "metadata": {
        "id": "EpvnLr0n6InH"
      },
      "outputs": [],
      "source": [
        "df['text'] = df['text'].apply(preprocess)\n"
      ]
    },
    {
      "cell_type": "markdown",
      "metadata": {
        "id": "WmPWAFjs6InH"
      },
      "source": [
        "- **Text Transformation**: Applies the `preprocess` function to the `text` column, cleaning and standardizing the text data for further analysis."
      ]
    },
    {
      "cell_type": "code",
      "execution_count": null,
      "metadata": {
        "id": "EVdli4W36InH"
      },
      "outputs": [],
      "source": [
        "label_encoder = LabelEncoder()\n",
        "df['target'] = label_encoder.fit_transform(df['target'])\n"
      ]
    },
    {
      "cell_type": "markdown",
      "metadata": {
        "id": "84XQPiK86InH"
      },
      "source": [
        " - **`LabelEncoder`**: Converts categorical target labels into numerical values, making them suitable for machine learning algorithms."
      ]
    },
    {
      "cell_type": "code",
      "execution_count": null,
      "metadata": {
        "id": "tXC0Dkig6InH"
      },
      "outputs": [],
      "source": [
        "X = df['text']\n",
        "y = df['target']\n",
        "X_train, X_test, y_train, y_test = train_test_split(X, y, test_size=0.2, random_state=42)\n"
      ]
    },
    {
      "cell_type": "markdown",
      "metadata": {
        "id": "SDk5u5Ha6InH"
      },
      "source": [
        "- **Feature and Target Definition**: Defines `X` as the feature set (text data) and `y` as the target labels.\n",
        "    \n",
        "- **Data Splitting**: Uses **`train_test_split`** to divide the dataset into training and testing subsets, reserving 20% of the data for testing, with `random_state=42` ensuring reproducibility of the split."
      ]
    },
    {
      "cell_type": "code",
      "execution_count": null,
      "metadata": {
        "id": "OaQ1Hzr86InI"
      },
      "outputs": [],
      "source": [
        "count_vectorizer = CountVectorizer(max_features=5000)\n",
        "X_train_count = count_vectorizer.fit_transform(X_train)\n",
        "X_test_count = count_vectorizer.transform(X_test)\n"
      ]
    },
    {
      "cell_type": "markdown",
      "metadata": {
        "id": "gwDYgxg36InI"
      },
      "source": [
        " - **`CountVectorizer`**: This class from `sklearn.feature_extraction.text` converts a collection of text documents into a matrix of token counts. Each document is represented by a vector where each element represents the count of a specific term (word) in that document.\n",
        "      \n",
        "- **`max_features=5000`**: Limits the number of features (words) to 5000. This helps in managing the dimensionality of the feature space and computational efficiency.\n",
        "    \n",
        "    \n",
        " - **`fit_transform(X_train)`**: Fits the `CountVectorizer` model on the training data (`X_train`) and transforms it into a sparse matrix of token counts.\n",
        "    \n",
        " - **`transform(X_test)`**: Transforms the test data (`X_test`) into a sparse matrix of token counts using the previously fitted `CountVectorizer`. It ensures that the same vocabulary is applied to both training and testing data."
      ]
    },
    {
      "cell_type": "code",
      "execution_count": null,
      "metadata": {
        "id": "Qs6bVkFl6InI"
      },
      "outputs": [],
      "source": [
        "tfidf_vectorizer = TfidfVectorizer(max_features=5000)\n",
        "X_train_tfidf = tfidf_vectorizer.fit_transform(X_train)\n",
        "X_test_tfidf = tfidf_vectorizer.transform(X_test)\n"
      ]
    },
    {
      "cell_type": "markdown",
      "metadata": {
        "id": "Y0OEGa336InI"
      },
      "source": [
        " - **`TfidfVectorizer`**: This class from `sklearn.feature_extraction.text` converts a collection of text documents into a matrix of TF-IDF features. TF-IDF stands for Term Frequency-Inverse Document Frequency. It reflects the importance of a term in a document relative to a corpus.\n",
        "      \n",
        "- **`max_features=5000`**: Limits the number of features (words) to 5000, similar to `CountVectorizer`, to control the dimensionality and computational complexity.\n",
        "    \n",
        "- **`fit_transform(X_train)`**: Fits the `TfidfVectorizer` model on the training data (`X_train`) and transforms it into a sparse matrix of TF-IDF features.\n",
        "    \n",
        "- **`transform(X_test)`**: Transforms the test data (`X_test`) into a sparse matrix of TF-IDF features using the fitted `TfidfVectorizer`. This ensures consistency in feature representation between training and testing datasets."
      ]
    },
    {
      "cell_type": "code",
      "execution_count": null,
      "metadata": {
        "id": "B3oGuzLC6InI"
      },
      "outputs": [],
      "source": [
        "# Step 3: Corrected Batch Generator to Handle Sparse Data Efficiently\n",
        "def batch_generator(X, y, batch_size):\n",
        "    num_samples = X.shape[0]\n",
        "    while True:  # Loop forever so the generator never terminates\n",
        "        for offset in range(0, num_samples, batch_size):\n",
        "            batch_X = X[offset:offset + batch_size].toarray()  # Convert to dense format\n",
        "            batch_y = np.array(y[offset:offset + batch_size])  # Convert Series to NumPy array\n",
        "            yield batch_X, batch_y\n"
      ]
    },
    {
      "cell_type": "markdown",
      "metadata": {
        "id": "PA_O7WZg6InI"
      },
      "source": [
        "\n",
        "\n",
        "- **`batch_generator`**: Defines a generator function to yield batches of data for training a machine learning model. This is especially useful when dealing with large datasets that do not fit into memory all at once.\n",
        "    - **Parameters**:\n",
        "        - **`X`**: The feature matrix, which is expected to be in a sparse format (e.g., from `CountVectorizer` or `TfidfVectorizer`).\n",
        "        - **`y`**: The target vector, containing the labels corresponding to the features in `X`.\n",
        "        - **`batch_size`**: The number of samples to be included in each batch.\n",
        "\n",
        "\n",
        "\n",
        "\n",
        "- **`num_samples`**: Determines the total number of samples in the dataset. `X.shape[0]` gives the number of rows (samples) in the feature matrix `X`.\n",
        "\n",
        "\n",
        "\n",
        "- **`while True`**: Creates an infinite loop to continuously generate batches of data. This is useful for training models iteratively until the end of the dataset is reached, allowing for continuous training.\n",
        "\n",
        "\n",
        "\n",
        "- **`for offset in range(0, num_samples, batch_size)`**: Iterates through the dataset in increments of `batch_size`. `offset` is the starting index for each batch, progressing by `batch_size` with each iteration.\n",
        "\n",
        "\n",
        "\n",
        "- **`batch_X`**: Extracts a slice of `X` corresponding to the current batch. **`X[offset:offset + batch_size]`** selects the subset of rows for the batch. **`.toarray()`** converts the sparse matrix to a dense format (NumPy array). This is often necessary for models that do not support sparse matrices directly.\n",
        "    \n",
        "- **`batch_y`**: Extracts the corresponding target labels for the current batch. **`np.array(y[offset:offset + batch_size])`** converts the subset of the `y` Series to a NumPy array for compatibility with model training.\n",
        "\n",
        "\n",
        "\n",
        "- **`yield`**: Outputs the batch of data (`batch_X` and `batch_y`) to the caller. The generator will pause here and resume from this point on the next iteration, providing a new batch of data each time it is called.\n",
        "\n"
      ]
    },
    {
      "cell_type": "code",
      "execution_count": null,
      "metadata": {
        "id": "r4nTiylL6InI"
      },
      "outputs": [],
      "source": [
        "# Step 4: Define Models for Logistic Regression, SVC, and Random Forest Mimic\n",
        "from tensorflow.keras.models import Sequential\n",
        "from tensorflow.keras.layers import Dense, Dropout, InputLayer\n",
        "from tensorflow.keras.callbacks import EarlyStopping, ModelCheckpoint"
      ]
    },
    {
      "cell_type": "markdown",
      "metadata": {
        "id": "oB4T1rtt6InI"
      },
      "source": [
        "- **Imports**:\n",
        "  \n",
        "  - `Sequential` from `tensorflow.keras.models`: Used to create a linear stack of layers.\n",
        "  \n",
        "  - `Dense`, `Dropout`, `InputLayer` from `tensorflow.keras.layers`: Building blocks for the neural network layers.\n",
        "  \n",
        "  - `EarlyStopping`, `ModelCheckpoint` from `tensorflow.keras.callbacks`: Useful for training the models (though not used directly in the provided functions, these callbacks can be added during model training to monitor performance and save the best model).\n"
      ]
    },
    {
      "cell_type": "code",
      "execution_count": null,
      "metadata": {
        "id": "QvoqZsH46InI"
      },
      "outputs": [],
      "source": [
        "def build_logistic_regression_mimic_model(input_shape):\n",
        "    model = Sequential([\n",
        "        InputLayer(input_shape=(input_shape,)),  # Input layer\n",
        "        Dense(3, activation='softmax')  # Output layer for classification\n",
        "    ])\n",
        "    model.compile(optimizer='adam', loss='sparse_categorical_crossentropy', metrics=['accuracy'])\n",
        "    return model\n"
      ]
    },
    {
      "cell_type": "markdown",
      "metadata": {
        "id": "vmRn5CI56InJ"
      },
      "source": [
        " **`build_logistic_regression_mimic_model`**: Defines a neural network model to mimic the behavior of a logistic regression classifier.\n",
        "    \n",
        "- **`InputLayer(input_shape=(input_shape,))`**: Specifies the shape of the input data. The input layer has `input_shape` dimensions, matching the number of features in the data.\n",
        "    \n",
        "- **`Dense(3, activation='softmax')`**: Adds a dense output layer with 3 units and a softmax activation function. The softmax function converts the raw output into probabilities for each of the 3 classes.\n",
        "   \n",
        " - **`model.compile(optimizer='adam', loss='sparse_categorical_crossentropy', metrics=['accuracy'])`**: Compiles the model using the Adam optimizer, sparse categorical crossentropy loss (suitable for classification problems), and accuracy as the evaluation metric.\n"
      ]
    },
    {
      "cell_type": "code",
      "execution_count": null,
      "metadata": {
        "id": "UgDdbJUz6InJ"
      },
      "outputs": [],
      "source": [
        "def build_svc_mimic_model(input_shape):\n",
        "    model = Sequential([\n",
        "        InputLayer(input_shape=(input_shape,)),  # Input layer\n",
        "        Dense(256, activation='relu'),  # First hidden layer\n",
        "        Dropout(0.5),  # Regularization\n",
        "        Dense(128, activation='relu'),  # Second hidden layer\n",
        "        Dropout(0.5),  # Regularization\n",
        "        Dense(3, activation='softmax')  # Output layer\n",
        "    ])\n",
        "    model.compile(optimizer='adam', loss='sparse_categorical_crossentropy', metrics=['accuracy'])\n",
        "    return model\n"
      ]
    },
    {
      "cell_type": "markdown",
      "metadata": {
        "id": "xPGtI30I6InJ"
      },
      "source": [
        "   - **`build_svc_mimic_model`**: Defines a neural network model to mimic the behavior of a Support Vector Classification (SVC) model.\n",
        "    \n",
        "   - **`Dense(256, activation='relu')`**: Adds a hidden layer with 256 units and ReLU activation function. ReLU (Rectified Linear Unit) introduces non-linearity to the model.\n",
        "    \n",
        "   - **`Dropout(0.5)`**: Adds dropout regularization to prevent overfitting. During training, 50% of the neurons are randomly ignored.\n",
        "    \n",
        "   - **`Dense(128, activation='relu')`**: Adds a second hidden layer with 128 units and ReLU activation.\n",
        "    \n",
        "   - **`Dense(3, activation='softmax')`**: Adds a dense output layer with 3 units and softmax activation, providing class probabilities.\n",
        "    \n",
        "   - **`model.compile(optimizer='adam', loss='sparse_categorical_crossentropy', metrics=['accuracy'])`**: Compiles the model with the Adam optimizer, sparse categorical crossentropy loss, and accuracy metric.\n"
      ]
    },
    {
      "cell_type": "code",
      "execution_count": null,
      "metadata": {
        "id": "UOa5-LHs6InJ"
      },
      "outputs": [],
      "source": [
        "def build_random_forest_mimic_model(input_shape):\n",
        "    model = Sequential([\n",
        "        InputLayer(input_shape=(input_shape,)),  # Input layer\n",
        "        Dense(512, activation='relu'),  # First hidden layer\n",
        "        Dropout(0.5),  # Regularization\n",
        "        Dense(256, activation='relu'),  # Second hidden layer\n",
        "        Dropout(0.5),  # Regularization\n",
        "        Dense(128, activation='relu'),  # Third hidden layer\n",
        "        Dropout(0.5),  # Regularization\n",
        "        Dense(3, activation='softmax')  # Output layer\n",
        "    ])\n",
        "    model.compile(optimizer='adam', loss='sparse_categorical_crossentropy', metrics=['accuracy'])\n",
        "    return model\n"
      ]
    },
    {
      "cell_type": "markdown",
      "metadata": {
        "id": "5JtZCxmt6InJ"
      },
      "source": [
        "- **`build_random_forest_mimic_model`**: Defines a neural network model to mimic the behavior of a Random Forest classifier.\n",
        "  \n",
        "- **`Dense(512, activation='relu')`**: Adds a hidden layer with 512 units and ReLU activation.\n",
        "    \n",
        "- **`Dropout(0.5)`**: Applies dropout regularization with 50% dropout rate.\n",
        "    \n",
        "- **`Dense(256, activation='relu')`**: Adds a second hidden layer with 256 units and ReLU activation.\n",
        "    \n",
        "- **`Dense(128, activation='relu')`**: Adds a third hidden layer with 128 units and ReLU activation.\n",
        "    \n",
        "- **`Dense(3, activation='softmax')`**: Adds a dense output layer with 3 units and softmax activation.\n",
        "    \n",
        "- **`model.compile(optimizer='adam', loss='sparse_categorical_crossentropy', metrics=['accuracy'])`**: Compiles the model with the Adam optimizer, sparse categorical crossentropy loss, and accuracy metric."
      ]
    },
    {
      "cell_type": "markdown",
      "metadata": {
        "id": "BmIlyuxn6InK"
      },
      "source": [
        "## Summary\n",
        "\n",
        "### **Logistic Regression Mimic**\n",
        "\n",
        "**Overview**:\n",
        "- **Logistic Regression**: A foundational algorithm for binary and multi-class classification tasks. It creates a linear decision boundary to separate classes and estimates class probabilities.\n",
        "\n",
        "**Neural Network Mimic**:\n",
        "- **Architecture**:\n",
        "  - **Single Dense Layer**: In the neural network, a single dense (fully connected) layer with `softmax` activation function closely approximates the decision boundary of logistic regression. This layer outputs probabilities for each class, similar to logistic regression’s probability estimates.\n",
        "  - **Activation Function**: The `softmax` function in the output layer generates a probability distribution over the classes, replicating the logistic regression’s probabilistic classification.\n",
        "  \n",
        "**Conclusion**: This architecture directly mirrors the core functionality of logistic regression, using a neural network's dense layer to achieve the same linear decision-making process.\n",
        "\n",
        "### **SVC Mimic**\n",
        "\n",
        "**Overview**:\n",
        "- **Support Vector Classification (SVC)**: Known for finding an optimal hyperplane that maximizes the margin between classes. SVC can handle non-linear decision boundaries using kernel functions.\n",
        "\n",
        "**Neural Network Mimic**:\n",
        "- **Architecture**:\n",
        "  - **Multiple Hidden Layers**: The neural network includes several dense layers with `relu` activation functions. These layers introduce non-linearity into the model, akin to how SVC uses kernel functions to handle non-linear data.\n",
        "  - **Dropout Regularization**: Dropout layers are employed to prevent overfitting, similar to SVC’s ability to generalize well even in high-dimensional spaces. This regularization mimics SVC's robustness in dealing with complex data.\n",
        "  - **Output Layer**: The final `softmax` layer provides class probabilities, consistent with SVC’s approach to classification.\n",
        "\n",
        "**Conclusion**: By incorporating multiple hidden layers and dropout, this neural network model emulates SVC's capability to handle complex, non-linear decision boundaries while maintaining a high level of robustness and generalization.\n",
        "\n",
        "### **Random Forest Mimic**\n",
        "\n",
        "**Overview**:\n",
        "- **Random Forest**: An ensemble learning method that aggregates predictions from multiple decision trees to enhance accuracy and robustness. It is effective in handling high-dimensional data and preventing overfitting.\n",
        "\n",
        "**Neural Network Mimic**:\n",
        "- **Architecture**:\n",
        "  - **Deep Network with Multiple Layers**: The neural network features several dense layers with `relu` activations, reflecting the depth and complexity of Random Forest’s ensemble of decision trees. Each hidden layer can be seen as simulating a decision tree's capacity to learn complex patterns.\n",
        "  - **Dropout Regularization**: Regularization through dropout layers ensures the model does not overfit, akin to how Random Forest reduces overfitting by averaging multiple trees.\n",
        "  - **Output Layer**: The `softmax` activation in the output layer generates class probabilities, replicating the final class predictions of a Random Forest.\n",
        "\n",
        "**Conclusion**: This deep network structure with multiple layers and dropout closely mimics the ensemble learning and robustness characteristics of Random Forest, leveraging the power of deep learning to approximate the decision-making process of multiple decision trees.\n",
        "\n",
        "\n"
      ]
    },
    {
      "cell_type": "code",
      "execution_count": null,
      "metadata": {
        "id": "AMYT_DmA6InK",
        "outputId": "326fc3bd-5bdc-4cdb-ac5d-666d426abdcf"
      },
      "outputs": [
        {
          "name": "stdout",
          "output_type": "stream",
          "text": [
            "Epoch 1/10\n",
            " 9994/10000 [============================>.] - ETA: 0s - loss: 0.5256 - accuracy: 0.7652\n",
            "Epoch 1: val_loss improved from inf to 0.49075, saving model to logistic_regression_mimic_count_best_model.h5\n",
            "10000/10000 [==============================] - 49s 5ms/step - loss: 0.5256 - accuracy: 0.7652 - val_loss: 0.4908 - val_accuracy: 0.7726\n",
            "Epoch 2/10\n",
            " 9996/10000 [============================>.] - ETA: 0s - loss: 0.4890 - accuracy: 0.7736\n",
            "Epoch 2: val_loss improved from 0.49075 to 0.48967, saving model to logistic_regression_mimic_count_best_model.h5\n",
            "10000/10000 [==============================] - 47s 5ms/step - loss: 0.4890 - accuracy: 0.7736 - val_loss: 0.4897 - val_accuracy: 0.7732\n",
            "Epoch 3/10\n",
            " 9995/10000 [============================>.] - ETA: 0s - loss: 0.4884 - accuracy: 0.7740\n",
            "Epoch 3: val_loss did not improve from 0.48967\n",
            "10000/10000 [==============================] - 47s 5ms/step - loss: 0.4884 - accuracy: 0.7740 - val_loss: 0.4898 - val_accuracy: 0.7734\n",
            "Epoch 4/10\n",
            " 9997/10000 [============================>.] - ETA: 0s - loss: 0.4883 - accuracy: 0.7740\n",
            "Epoch 4: val_loss did not improve from 0.48967\n",
            "10000/10000 [==============================] - 44s 4ms/step - loss: 0.4883 - accuracy: 0.7740 - val_loss: 0.4899 - val_accuracy: 0.7732\n",
            "Epoch 5/10\n",
            " 9991/10000 [============================>.] - ETA: 0s - loss: 0.4884 - accuracy: 0.7741\n",
            "Epoch 5: val_loss did not improve from 0.48967\n",
            "10000/10000 [==============================] - 48s 5ms/step - loss: 0.4883 - accuracy: 0.7741 - val_loss: 0.4900 - val_accuracy: 0.7732\n",
            "Epoch 5: early stopping\n",
            "Epoch 1/10\n",
            " 9989/10000 [============================>.] - ETA: 0s - loss: 0.4839 - accuracy: 0.7678\n",
            "Epoch 1: val_loss improved from inf to 0.46283, saving model to svc_mimic_tfidf_best_model.h5\n",
            "10000/10000 [==============================] - 42s 4ms/step - loss: 0.4838 - accuracy: 0.7679 - val_loss: 0.4628 - val_accuracy: 0.7794\n",
            "Epoch 2/10\n",
            " 9990/10000 [============================>.] - ETA: 0s - loss: 0.4596 - accuracy: 0.7836\n",
            "Epoch 2: val_loss improved from 0.46283 to 0.45643, saving model to svc_mimic_tfidf_best_model.h5\n",
            "10000/10000 [==============================] - 42s 4ms/step - loss: 0.4596 - accuracy: 0.7836 - val_loss: 0.4564 - val_accuracy: 0.7839\n",
            "Epoch 3/10\n",
            " 9999/10000 [============================>.] - ETA: 0s - loss: 0.4453 - accuracy: 0.7932\n",
            "Epoch 3: val_loss improved from 0.45643 to 0.45493, saving model to svc_mimic_tfidf_best_model.h5\n",
            "10000/10000 [==============================] - 42s 4ms/step - loss: 0.4453 - accuracy: 0.7932 - val_loss: 0.4549 - val_accuracy: 0.7854\n",
            "Epoch 4/10\n",
            " 9990/10000 [============================>.] - ETA: 0s - loss: 0.4336 - accuracy: 0.8008\n",
            "Epoch 4: val_loss did not improve from 0.45493\n",
            "10000/10000 [==============================] - 42s 4ms/step - loss: 0.4336 - accuracy: 0.8008 - val_loss: 0.4559 - val_accuracy: 0.7867\n",
            "Epoch 5/10\n",
            " 9989/10000 [============================>.] - ETA: 0s - loss: 0.4238 - accuracy: 0.8069\n",
            "Epoch 5: val_loss did not improve from 0.45493\n",
            "10000/10000 [==============================] - 42s 4ms/step - loss: 0.4238 - accuracy: 0.8069 - val_loss: 0.4577 - val_accuracy: 0.7869\n",
            "Epoch 6/10\n",
            " 9989/10000 [============================>.] - ETA: 0s - loss: 0.4158 - accuracy: 0.8117\n",
            "Epoch 6: val_loss did not improve from 0.45493\n",
            "10000/10000 [==============================] - 43s 4ms/step - loss: 0.4158 - accuracy: 0.8117 - val_loss: 0.4599 - val_accuracy: 0.7865\n",
            "Epoch 6: early stopping\n",
            "Epoch 1/10\n",
            " 9993/10000 [============================>.] - ETA: 0s - loss: 0.4861 - accuracy: 0.7694\n",
            "Epoch 1: val_loss improved from inf to 0.46104, saving model to random_forest_mimic_count_best_model.h5\n",
            "10000/10000 [==============================] - 56s 6ms/step - loss: 0.4861 - accuracy: 0.7694 - val_loss: 0.4610 - val_accuracy: 0.7824\n",
            "Epoch 2/10\n",
            " 9991/10000 [============================>.] - ETA: 0s - loss: 0.4573 - accuracy: 0.7867\n",
            "Epoch 2: val_loss improved from 0.46104 to 0.45689, saving model to random_forest_mimic_count_best_model.h5\n",
            "10000/10000 [==============================] - 55s 5ms/step - loss: 0.4573 - accuracy: 0.7867 - val_loss: 0.4569 - val_accuracy: 0.7857\n",
            "Epoch 3/10\n",
            " 9994/10000 [============================>.] - ETA: 0s - loss: 0.4400 - accuracy: 0.7973\n",
            "Epoch 3: val_loss improved from 0.45689 to 0.45495, saving model to random_forest_mimic_count_best_model.h5\n",
            "10000/10000 [==============================] - 58s 6ms/step - loss: 0.4400 - accuracy: 0.7973 - val_loss: 0.4550 - val_accuracy: 0.7871\n",
            "Epoch 4/10\n",
            " 9993/10000 [============================>.] - ETA: 0s - loss: 0.4258 - accuracy: 0.8061\n",
            "Epoch 4: val_loss did not improve from 0.45495\n",
            "10000/10000 [==============================] - 55s 5ms/step - loss: 0.4258 - accuracy: 0.8061 - val_loss: 0.4563 - val_accuracy: 0.7872\n",
            "Epoch 5/10\n",
            " 9998/10000 [============================>.] - ETA: 0s - loss: 0.4142 - accuracy: 0.8131\n",
            "Epoch 5: val_loss did not improve from 0.45495\n",
            "10000/10000 [==============================] - 56s 6ms/step - loss: 0.4142 - accuracy: 0.8131 - val_loss: 0.4583 - val_accuracy: 0.7865\n",
            "Epoch 6/10\n",
            " 9996/10000 [============================>.] - ETA: 0s - loss: 0.4043 - accuracy: 0.8191\n",
            "Epoch 6: val_loss did not improve from 0.45495\n",
            "10000/10000 [==============================] - 59s 6ms/step - loss: 0.4043 - accuracy: 0.8191 - val_loss: 0.4605 - val_accuracy: 0.7853\n",
            "Epoch 6: early stopping\n"
          ]
        },
        {
          "data": {
            "text/plain": [
              "<keras.callbacks.History at 0x1e60efa0460>"
            ]
          },
          "execution_count": 17,
          "metadata": {},
          "output_type": "execute_result"
        }
      ],
      "source": [
        "# Step 5: Train Logistic Regression Mimic Model with CountVectorizer using Batch Generator\n",
        "logistic_regression_mimic_count = build_logistic_regression_mimic_model(X_train_count.shape[1])\n",
        "early_stop = EarlyStopping(monitor='val_loss', patience=3, verbose=1)\n",
        "checkpoint = ModelCheckpoint('logistic_regression_mimic_count_best_model.h5', monitor='val_loss', save_best_only=True, verbose=1)\n",
        "\n",
        "# Train Logistic Regression Mimic Model with CountVectorizer (Batch Generator)\n",
        "batch_size = 128\n",
        "train_generator = batch_generator(X_train_count, y_train, batch_size)\n",
        "validation_generator = batch_generator(X_test_count, y_test, batch_size)\n",
        "\n",
        "logistic_regression_mimic_count.fit(\n",
        "    train_generator,\n",
        "    steps_per_epoch=X_train_count.shape[0] // batch_size,\n",
        "    validation_data=validation_generator,\n",
        "    validation_steps=X_test_count.shape[0] // batch_size,\n",
        "    epochs=10,\n",
        "    callbacks=[early_stop, checkpoint],\n",
        "    verbose=1\n",
        ")\n",
        "\n",
        "# Train SVC Mimic Model with TFIDFVectorizer using Batch Generator\n",
        "svc_mimic_tfidf = build_svc_mimic_model(X_train_tfidf.shape[1])\n",
        "checkpoint = ModelCheckpoint('svc_mimic_tfidf_best_model.h5', monitor='val_loss', save_best_only=True, verbose=1)\n",
        "\n",
        "train_generator_tfidf = batch_generator(X_train_tfidf, y_train, batch_size)\n",
        "validation_generator_tfidf = batch_generator(X_test_tfidf, y_test, batch_size)\n",
        "\n",
        "svc_mimic_tfidf.fit(\n",
        "    train_generator_tfidf,\n",
        "    steps_per_epoch=X_train_tfidf.shape[0] // batch_size,\n",
        "    validation_data=validation_generator_tfidf,\n",
        "    validation_steps=X_test_tfidf.shape[0] // batch_size,\n",
        "    epochs=10,\n",
        "    callbacks=[early_stop, checkpoint],\n",
        "    verbose=1\n",
        ")\n",
        "\n",
        "# Train Random Forest Mimic Model with CountVectorizer using Batch Generator\n",
        "random_forest_mimic_count = build_random_forest_mimic_model(X_train_count.shape[1])\n",
        "checkpoint = ModelCheckpoint('random_forest_mimic_count_best_model.h5', monitor='val_loss', save_best_only=True, verbose=1)\n",
        "\n",
        "random_forest_mimic_count.fit(\n",
        "    train_generator,\n",
        "    steps_per_epoch=X_train_count.shape[0] // batch_size,\n",
        "    validation_data=validation_generator,\n",
        "    validation_steps=X_test_count.shape[0] // batch_size,\n",
        "    epochs=10,\n",
        "    callbacks=[early_stop, checkpoint],\n",
        "    verbose=1\n",
        ")\n"
      ]
    },
    {
      "cell_type": "markdown",
      "metadata": {
        "id": "YCyc2rKJ6InK"
      },
      "source": [
        "\n",
        "\n",
        "### 1. Logistic Regression Mimic Model with CountVectorizer\n",
        "\n",
        "**Model Definition:**\n",
        "We start by defining and building a Logistic Regression mimic model using the `build_logistic_regression_mimic_model` function. This function constructs a neural network architecture that approximates the behavior of a traditional Logistic Regression classifier.\n",
        "\n",
        "**Callbacks:**\n",
        "- `EarlyStopping`: Stops training when the validation loss does not improve for a specified number of epochs (patience=3). This helps prevent overfitting.\n",
        "- `ModelCheckpoint`: Saves the model with the best validation loss to a file named `'logistic_regression_mimic_count_best_model.h5'`. This allows us to load the best-performing model later.\n",
        "\n",
        "**Training:**\n",
        "- **Batch Size:** 128 samples per batch.\n",
        "- **Train Generator:** Created using `batch_generator` function for `X_train_count` and `y_train`.\n",
        "- **Validation Generator:** Created using `batch_generator` function for `X_test_count` and `y_test`.\n",
        "\n",
        "The model is trained using the `.fit()` method with the following parameters:\n",
        "- `train_generator`: Provides the training data in batches.\n",
        "- `steps_per_epoch`: Number of steps per epoch, calculated as the total number of training samples divided by the batch size.\n",
        "- `validation_data`: Provides the validation data in batches.\n",
        "- `validation_steps`: Number of validation steps per epoch, calculated similarly to steps per epoch.\n",
        "- `epochs`: Number of epochs to train the model.\n",
        "- `callbacks`: List of callbacks to apply during training.\n",
        "- `verbose`: Sets the verbosity mode for logging.\n",
        "\n",
        "### 2. SVC Mimic Model with TFIDFVectorizer\n",
        "\n",
        "**Model Definition:**\n",
        "We define and build an SVC mimic model using the `build_svc_mimic_model` function. This function constructs a neural network that mimics the behavior of a traditional Support Vector Classifier.\n",
        "\n",
        "**Callbacks:**\n",
        "- `ModelCheckpoint`: Saves the best model based on validation loss to `'svc_mimic_tfidf_best_model.h5'`.\n",
        "\n",
        "**Training:**\n",
        "- **Batch Size:** 128 samples per batch.\n",
        "- **Train Generator:** Created using `batch_generator` function for `X_train_tfidf` and `y_train`.\n",
        "- **Validation Generator:** Created using `batch_generator` function for `X_test_tfidf` and `y_test`.\n",
        "\n",
        "The model is trained using similar parameters as described above for the Logistic Regression model.\n",
        "\n",
        "### 3. Random Forest Mimic Model with CountVectorizer\n",
        "\n",
        "**Model Definition:**\n",
        "We define and build a Random Forest mimic model using the `build_random_forest_mimic_model` function. This function constructs a neural network that approximates the behavior of a traditional Random Forest classifier.\n",
        "\n",
        "**Callbacks:**\n",
        "- `ModelCheckpoint`: Saves the best model based on validation loss to `'random_forest_mimic_count_best_model.h5'`.\n",
        "\n",
        "**Training:**\n",
        "- **Batch Size:** 128 samples per batch.\n",
        "- **Train Generator:** Created using `batch_generator` function for `X_train_count` and `y_train`.\n",
        "- **Validation Generator:** Created using `batch_generator` function for `X_test_count` and `y_test`.\n",
        "\n",
        "The model is trained using the same parameters as mentioned for the previous models.\n"
      ]
    },
    {
      "cell_type": "code",
      "execution_count": null,
      "metadata": {
        "id": "cnqmIxGS6InL",
        "outputId": "f86d861e-d3f4-46c2-f654-1055bdbdd33c"
      },
      "outputs": [
        {
          "name": "stdout",
          "output_type": "stream",
          "text": [
            "Epoch 1/10\n",
            " 9988/10000 [============================>.] - ETA: 0s - loss: 0.5406 - accuracy: 0.7631\n",
            "Epoch 1: val_loss improved from inf to 0.48185, saving model to logistic_regression_mimic_tfidf_best_model.h5\n",
            "10000/10000 [==============================] - 43s 4ms/step - loss: 0.5405 - accuracy: 0.7631 - val_loss: 0.4818 - val_accuracy: 0.7723\n",
            "Epoch 2/10\n",
            " 9993/10000 [============================>.] - ETA: 0s - loss: 0.4770 - accuracy: 0.7742\n",
            "Epoch 2: val_loss improved from 0.48185 to 0.47663, saving model to logistic_regression_mimic_tfidf_best_model.h5\n",
            "10000/10000 [==============================] - 47s 5ms/step - loss: 0.4769 - accuracy: 0.7742 - val_loss: 0.4766 - val_accuracy: 0.7734\n",
            "Epoch 3/10\n",
            " 9993/10000 [============================>.] - ETA: 0s - loss: 0.4743 - accuracy: 0.7752\n",
            "Epoch 3: val_loss improved from 0.47663 to 0.47609, saving model to logistic_regression_mimic_tfidf_best_model.h5\n",
            "10000/10000 [==============================] - 42s 4ms/step - loss: 0.4743 - accuracy: 0.7752 - val_loss: 0.4761 - val_accuracy: 0.7737\n",
            "Epoch 4/10\n",
            " 9995/10000 [============================>.] - ETA: 0s - loss: 0.4738 - accuracy: 0.7753\n",
            "Epoch 4: val_loss did not improve from 0.47609\n",
            "10000/10000 [==============================] - 42s 4ms/step - loss: 0.4737 - accuracy: 0.7753 - val_loss: 0.4761 - val_accuracy: 0.7736\n",
            "Epoch 5/10\n",
            " 9989/10000 [============================>.] - ETA: 0s - loss: 0.4736 - accuracy: 0.7754\n",
            "Epoch 5: val_loss did not improve from 0.47609\n",
            "10000/10000 [==============================] - 42s 4ms/step - loss: 0.4736 - accuracy: 0.7754 - val_loss: 0.4762 - val_accuracy: 0.7736\n",
            "Epoch 6/10\n",
            " 9995/10000 [============================>.] - ETA: 0s - loss: 0.4736 - accuracy: 0.7754\n",
            "Epoch 6: val_loss did not improve from 0.47609\n",
            "10000/10000 [==============================] - 43s 4ms/step - loss: 0.4736 - accuracy: 0.7754 - val_loss: 0.4763 - val_accuracy: 0.7736\n",
            "Epoch 6: early stopping\n"
          ]
        },
        {
          "data": {
            "text/plain": [
              "<keras.callbacks.History at 0x1e61d6600d0>"
            ]
          },
          "execution_count": 19,
          "metadata": {},
          "output_type": "execute_result"
        }
      ],
      "source": [
        "# Train Logistic Regression Mimic Model with TFIDFVectorizer using Batch Generator\n",
        "logistic_regression_mimic_tfidf = build_logistic_regression_mimic_model(X_train_tfidf.shape[1])\n",
        "early_stop = EarlyStopping(monitor='val_loss', patience=3, verbose=1)\n",
        "checkpoint = ModelCheckpoint('logistic_regression_mimic_tfidf_best_model.h5', monitor='val_loss', save_best_only=True, verbose=1)\n",
        "\n",
        "# Train Logistic Regression Mimic Model with TFIDFVectorizer (Batch Generator)\n",
        "train_generator_tfidf = batch_generator(X_train_tfidf, y_train, batch_size)\n",
        "validation_generator_tfidf = batch_generator(X_test_tfidf, y_test, batch_size)\n",
        "\n",
        "logistic_regression_mimic_tfidf.fit(\n",
        "    train_generator_tfidf,\n",
        "    steps_per_epoch=X_train_tfidf.shape[0] // batch_size,\n",
        "    validation_data=validation_generator_tfidf,\n",
        "    validation_steps=X_test_tfidf.shape[0] // batch_size,\n",
        "    epochs=10,\n",
        "    callbacks=[early_stop, checkpoint],\n",
        "    verbose=1\n",
        ")\n"
      ]
    },
    {
      "cell_type": "markdown",
      "metadata": {
        "id": "J4dggN1u6InL"
      },
      "source": [
        "## Training Logistic Regression Mimic Model with TFIDFVectorizer\n",
        "\n",
        "### Model Definition\n",
        "\n",
        "**Logistic Regression Mimic Model:**\n",
        "- **Model Building:** We build the mimic model using the `build_logistic_regression_mimic_model` function. This function constructs a neural network architecture designed to approximate the functionality of a traditional Logistic Regression classifier. The number of input features is specified by `X_train_tfidf.shape[1]`, which corresponds to the number of features generated by the `TFIDFVectorizer`.\n",
        "\n",
        "### Callbacks\n",
        "\n",
        "**EarlyStopping:**\n",
        "- **Purpose:** This callback monitors the validation loss during training and stops the training process if the validation loss does not improve for a specified number of epochs (patience=3). This helps to prevent overfitting and ensures efficient training.\n",
        "- **Parameters:** `monitor='val_loss'` tracks validation loss, `patience=3` allows training to continue for three more epochs if no improvement is observed, and `verbose=1` provides logging information.\n",
        "\n",
        "**ModelCheckpoint:**\n",
        "- **Purpose:** This callback saves the model with the best validation loss to a file. This allows us to retrieve the model that performed best on the validation set.\n",
        "- **Parameters:** `monitor='val_loss'` tracks validation loss, `save_best_only=True` ensures that only the best model (based on validation loss) is saved, and `verbose=1` provides logging information.\n",
        "\n",
        "### Data Generators\n",
        "\n",
        "**Train and Validation Generators:**\n",
        "- **Train Generator:** Created using the `batch_generator` function for `X_train_tfidf` and `y_train`. This generator yields batches of data for training.\n",
        "- **Validation Generator:** Created using the `batch_generator` function for `X_test_tfidf` and `y_test`. This generator yields batches of data for validation.\n",
        "\n",
        "### Training Procedure\n",
        "\n",
        "**Model Fitting:**\n",
        "- **Method:** `.fit()`\n",
        "- **Parameters:**\n",
        "  - `train_generator`: Provides the training data in batches.\n",
        "  - `steps_per_epoch`: The number of steps (batches) per epoch is calculated as the total number of training samples divided by the batch size (`X_train_tfidf.shape[0] // batch_size`).\n",
        "  - `validation_data`: The validation data generator provides batches of validation data.\n",
        "  - `validation_steps`: The number of validation steps per epoch is calculated similarly to steps per epoch.\n",
        "  - `epochs`: The number of epochs to train the model (set to 10).\n",
        "  - `callbacks`: List of callbacks used during training (`early_stop` and `checkpoint`).\n",
        "  - `verbose`: The verbosity mode is set to 1, which provides detailed logging during training.\n",
        "\n",
        "### Summary\n",
        "\n",
        "In this section, we have trained a neural network model designed to mimic a traditional Logistic Regression classifier using `TFIDFVectorizer` for feature extraction. The model is trained with batch generators for efficient processing of large datasets, and callbacks are employed to monitor and optimize the training process. The use of early stopping helps prevent overfitting, while model checkpointing ensures that the best model is saved based on validation performance.\n"
      ]
    },
    {
      "cell_type": "code",
      "execution_count": null,
      "metadata": {
        "id": "bMGRNcgE6InM",
        "outputId": "3c789112-6aad-45bf-ae29-656e7b5a1800"
      },
      "outputs": [
        {
          "name": "stdout",
          "output_type": "stream",
          "text": [
            "Epoch 1/10\n",
            " 9998/10000 [============================>.] - ETA: 0s - loss: 0.4861 - accuracy: 0.7689\n",
            "Epoch 1: val_loss improved from inf to 0.46181, saving model to svc_mimic_count_best_model.h5\n",
            "10000/10000 [==============================] - 52s 5ms/step - loss: 0.4861 - accuracy: 0.7689 - val_loss: 0.4618 - val_accuracy: 0.7810\n",
            "Epoch 2/10\n",
            "10000/10000 [==============================] - ETA: 0s - loss: 0.4596 - accuracy: 0.7842\n",
            "Epoch 2: val_loss improved from 0.46181 to 0.45593, saving model to svc_mimic_count_best_model.h5\n",
            "10000/10000 [==============================] - 51s 5ms/step - loss: 0.4596 - accuracy: 0.7842 - val_loss: 0.4559 - val_accuracy: 0.7850\n",
            "Epoch 3/10\n",
            " 9999/10000 [============================>.] - ETA: 0s - loss: 0.4454 - accuracy: 0.7925\n",
            "Epoch 3: val_loss did not improve from 0.45593\n",
            "10000/10000 [==============================] - 51s 5ms/step - loss: 0.4454 - accuracy: 0.7925 - val_loss: 0.4562 - val_accuracy: 0.7857\n",
            "Epoch 4/10\n",
            " 9995/10000 [============================>.] - ETA: 0s - loss: 0.4351 - accuracy: 0.7992\n",
            "Epoch 4: val_loss did not improve from 0.45593\n",
            "10000/10000 [==============================] - 51s 5ms/step - loss: 0.4351 - accuracy: 0.7992 - val_loss: 0.4565 - val_accuracy: 0.7864\n",
            "Epoch 5/10\n",
            " 9997/10000 [============================>.] - ETA: 0s - loss: 0.4272 - accuracy: 0.8045\n",
            "Epoch 5: val_loss did not improve from 0.45593\n",
            "10000/10000 [==============================] - 52s 5ms/step - loss: 0.4272 - accuracy: 0.8045 - val_loss: 0.4584 - val_accuracy: 0.7861\n",
            "Epoch 5: early stopping\n"
          ]
        },
        {
          "data": {
            "text/plain": [
              "<keras.callbacks.History at 0x1e6173dca00>"
            ]
          },
          "execution_count": 20,
          "metadata": {},
          "output_type": "execute_result"
        }
      ],
      "source": [
        "# Train SVC Mimic Model with CountVectorizer using Batch Generator\n",
        "svc_mimic_count = build_svc_mimic_model(X_train_count.shape[1])\n",
        "checkpoint = ModelCheckpoint('svc_mimic_count_best_model.h5', monitor='val_loss', save_best_only=True, verbose=1)\n",
        "\n",
        "# Train SVC Mimic Model with CountVectorizer (Batch Generator)\n",
        "train_generator_count = batch_generator(X_train_count, y_train, batch_size)\n",
        "validation_generator_count = batch_generator(X_test_count, y_test, batch_size)\n",
        "\n",
        "svc_mimic_count.fit(\n",
        "    train_generator_count,\n",
        "    steps_per_epoch=X_train_count.shape[0] // batch_size,\n",
        "    validation_data=validation_generator_count,\n",
        "    validation_steps=X_test_count.shape[0] // batch_size,\n",
        "    epochs=10,\n",
        "    callbacks=[early_stop, checkpoint],\n",
        "    verbose=1\n",
        ")\n"
      ]
    },
    {
      "cell_type": "markdown",
      "metadata": {
        "id": "koQ5fCGO6InU"
      },
      "source": [
        "## Training SVC Mimic Model with CountVectorizer\n",
        "\n",
        "\n",
        "### Model Definition\n",
        "\n",
        "**SVC Mimic Model:**\n",
        "- **Model Building:** We use the `build_svc_mimic_model` function to construct the mimic model. This neural network architecture is designed to replicate the functionality of a traditional SVC classifier. The number of input features is specified by `X_train_count.shape[1]`, which corresponds to the number of features generated by the `CountVectorizer`.\n",
        "\n",
        "### Callbacks\n",
        "\n",
        "**ModelCheckpoint:**\n",
        "- **Purpose:** This callback saves the model with the best validation loss during training. This ensures that the model with the optimal performance on the validation set is preserved.\n",
        "- **Parameters:** `monitor='val_loss'` tracks validation loss, `save_best_only=True` ensures that only the model with the best validation loss is saved, and `verbose=1` provides detailed logging information.\n",
        "\n",
        "### Data Generators\n",
        "\n",
        "**Train and Validation Generators:**\n",
        "- **Train Generator:** Created using the `batch_generator` function for `X_train_count` and `y_train`. This generator produces batches of training data.\n",
        "- **Validation Generator:** Created using the `batch_generator` function for `X_test_count` and `y_test`. This generator produces batches of validation data.\n",
        "\n",
        "### Training Procedure\n",
        "\n",
        "**Model Fitting:**\n",
        "- **Method:** `.fit()`\n",
        "- **Parameters:**\n",
        "  - `train_generator_count`: Provides the training data in batches.\n",
        "  - `steps_per_epoch`: The number of steps (batches) per epoch is calculated as the total number of training samples divided by the batch size (`X_train_count.shape[0] // batch_size`).\n",
        "  - `validation_data`: The validation data generator provides batches of validation data.\n",
        "  - `validation_steps`: The number of validation steps per epoch is calculated similarly to steps per epoch.\n",
        "  - `epochs`: The number of epochs to train the model (set to 10).\n",
        "  - `callbacks`: List of callbacks used during training (`checkpoint`).\n",
        "  - `verbose`: The verbosity mode is set to 1, which provides detailed logging during training.\n",
        "\n",
        "### Summary\n",
        "\n",
        "In this section, we have trained a neural network model designed to mimic a traditional SVC classifier using features extracted by `CountVectorizer`. The training process is handled using batch generators for efficient data processing, and the model checkpoint callback ensures that the best-performing model based on validation loss is saved. This approach allows us to approximate the behavior of an SVC classifier using deep learning techniques.\n"
      ]
    },
    {
      "cell_type": "code",
      "execution_count": null,
      "metadata": {
        "id": "smLeWQC96InU",
        "outputId": "6452e633-859b-4ef7-fdd5-8adf27e9c6dc"
      },
      "outputs": [
        {
          "name": "stdout",
          "output_type": "stream",
          "text": [
            "Epoch 1/10\n",
            " 9996/10000 [============================>.] - ETA: 0s - loss: 0.4842 - accuracy: 0.7687\n",
            "Epoch 1: val_loss improved from inf to 0.46097, saving model to random_forest_mimic_tfidf_best_model.h5\n",
            "10000/10000 [==============================] - 44s 4ms/step - loss: 0.4842 - accuracy: 0.7687 - val_loss: 0.4610 - val_accuracy: 0.7807\n",
            "Epoch 2/10\n",
            " 9992/10000 [============================>.] - ETA: 0s - loss: 0.4569 - accuracy: 0.7868\n",
            "Epoch 2: val_loss improved from 0.46097 to 0.45578, saving model to random_forest_mimic_tfidf_best_model.h5\n",
            "10000/10000 [==============================] - 43s 4ms/step - loss: 0.4569 - accuracy: 0.7868 - val_loss: 0.4558 - val_accuracy: 0.7851\n",
            "Epoch 3/10\n",
            " 9992/10000 [============================>.] - ETA: 0s - loss: 0.4382 - accuracy: 0.7991\n",
            "Epoch 3: val_loss improved from 0.45578 to 0.45522, saving model to random_forest_mimic_tfidf_best_model.h5\n",
            "10000/10000 [==============================] - 43s 4ms/step - loss: 0.4382 - accuracy: 0.7991 - val_loss: 0.4552 - val_accuracy: 0.7867\n",
            "Epoch 4/10\n",
            "10000/10000 [==============================] - ETA: 0s - loss: 0.4220 - accuracy: 0.8094\n",
            "Epoch 4: val_loss did not improve from 0.45522\n",
            "10000/10000 [==============================] - 43s 4ms/step - loss: 0.4220 - accuracy: 0.8094 - val_loss: 0.4569 - val_accuracy: 0.7866\n",
            "Epoch 5/10\n",
            " 9999/10000 [============================>.] - ETA: 0s - loss: 0.4070 - accuracy: 0.8186\n",
            "Epoch 5: val_loss did not improve from 0.45522\n",
            "10000/10000 [==============================] - 43s 4ms/step - loss: 0.4070 - accuracy: 0.8186 - val_loss: 0.4641 - val_accuracy: 0.7865\n",
            "Epoch 6/10\n",
            " 9995/10000 [============================>.] - ETA: 0s - loss: 0.3934 - accuracy: 0.8263\n",
            "Epoch 6: val_loss did not improve from 0.45522\n",
            "10000/10000 [==============================] - 43s 4ms/step - loss: 0.3934 - accuracy: 0.8263 - val_loss: 0.4676 - val_accuracy: 0.7857\n",
            "Epoch 6: early stopping\n"
          ]
        },
        {
          "data": {
            "text/plain": [
              "<keras.callbacks.History at 0x1e60efca520>"
            ]
          },
          "execution_count": 21,
          "metadata": {},
          "output_type": "execute_result"
        }
      ],
      "source": [
        "# Train Random Forest Mimic Model with TFIDFVectorizer using Batch Generator\n",
        "random_forest_mimic_tfidf = build_random_forest_mimic_model(X_train_tfidf.shape[1])\n",
        "checkpoint = ModelCheckpoint('random_forest_mimic_tfidf_best_model.h5', monitor='val_loss', save_best_only=True, verbose=1)\n",
        "\n",
        "# Train Random Forest Mimic Model with TFIDFVectorizer (Batch Generator)\n",
        "train_generator_tfidf = batch_generator(X_train_tfidf, y_train, batch_size)\n",
        "validation_generator_tfidf = batch_generator(X_test_tfidf, y_test, batch_size)\n",
        "\n",
        "random_forest_mimic_tfidf.fit(\n",
        "    train_generator_tfidf,\n",
        "    steps_per_epoch=X_train_tfidf.shape[0] // batch_size,\n",
        "    validation_data=validation_generator_tfidf,\n",
        "    validation_steps=X_test_tfidf.shape[0] // batch_size,\n",
        "    epochs=10,\n",
        "    callbacks=[early_stop, checkpoint],\n",
        "    verbose=1\n",
        ")\n"
      ]
    },
    {
      "cell_type": "markdown",
      "metadata": {
        "id": "99gSR20S6InU"
      },
      "source": [
        "## Training Random Forest Mimic Model with TFIDFVectorizer\n",
        "\n",
        "\n",
        "\n",
        "### Model Definition\n",
        "\n",
        "**Random Forest Mimic Model:**\n",
        "- **Model Building:** The `build_random_forest_mimic_model` function constructs a neural network architecture designed to approximate the behavior of a traditional Random Forest classifier. The input features for the model are specified by `X_train_tfidf.shape[1]`, which indicates the number of features derived from `TFIDFVectorizer`.\n",
        "\n",
        "### Callbacks\n",
        "\n",
        "**ModelCheckpoint:**\n",
        "- **Purpose:** This callback saves the model that performs best on the validation set, based on validation loss. This ensures that the model with the optimal performance is retained.\n",
        "- **Parameters:** `monitor='val_loss'` tracks validation loss, `save_best_only=True` ensures that only the model with the best validation loss is saved, and `verbose=1` provides detailed logging during training.\n",
        "\n",
        "### Data Generators\n",
        "\n",
        "**Train and Validation Generators:**\n",
        "- **Train Generator:** Created using the `batch_generator` function for `X_train_tfidf` and `y_train`. This generator yields batches of training data for the model.\n",
        "- **Validation Generator:** Created using the `batch_generator` function for `X_test_tfidf` and `y_test`. This generator yields batches of validation data.\n",
        "\n",
        "### Training Procedure\n",
        "\n",
        "**Model Fitting:**\n",
        "- **Method:** `.fit()`\n",
        "- **Parameters:**\n",
        "  - `train_generator_tfidf`: Provides the training data in batches.\n",
        "  - `steps_per_epoch`: Number of steps (batches) per epoch, calculated as the total number of training samples divided by the batch size (`X_train_tfidf.shape[0] // batch_size`).\n",
        "  - `validation_data`: The validation data generator provides batches of validation data.\n",
        "  - `validation_steps`: Number of validation steps per epoch, calculated similarly to steps per epoch.\n",
        "  - `epochs`: Number of epochs to train the model (set to 10).\n",
        "  - `callbacks`: List of callbacks used during training (`checkpoint`).\n",
        "  - `verbose`: Verbosity mode set to 1, providing detailed logging during training.\n",
        "\n",
        "### Summary\n",
        "\n",
        "In this section, we have trained a neural network model that mimics a traditional Random Forest classifier using `TFIDFVectorizer` for feature extraction. Batch generators are employed to handle data in batches, improving the efficiency of training on large datasets. The model checkpoint callback ensures that the best-performing model based on validation loss is saved for future use. This approach leverages deep learning techniques to approximate the behavior of a Random Forest classifier.\n"
      ]
    },
    {
      "cell_type": "code",
      "execution_count": null,
      "metadata": {
        "id": "aL_KFgyo6InU"
      },
      "outputs": [],
      "source": [
        "# Convert target names to strings if they are not already\n",
        "target_names = [str(label) for label in label_encoder.classes_]\n"
      ]
    },
    {
      "cell_type": "markdown",
      "metadata": {
        "id": "-ZeanRta6InV"
      },
      "source": [
        "## Converting Target Names to Strings\n",
        "\n",
        "In this section, we ensure that all target names are in string format. This step is crucial when working with classification problems where target labels need to be in a consistent format for further processing or interpretation.\n",
        "\n",
        "- **`label_encoder.classes_`:** This attribute of the `LabelEncoder` object contains the classes (or labels) of the target variable. These labels are typically in their original format, which could be integers or other data types.\n",
        "\n",
        "- **List Comprehension:** The code uses a list comprehension to iterate over each label in `label_encoder.classes_`. For each label, the `str()` function converts it to a string.\n",
        "\n",
        "- **Result:** The result is a list of target names where each name is guaranteed to be a string. This conversion is important for consistency, especially if target names need to be used in labeling, plotting, or generating reports.\n",
        "\n",
        "\n",
        "\n"
      ]
    },
    {
      "cell_type": "code",
      "execution_count": null,
      "metadata": {
        "id": "cSC3cFS-6InV"
      },
      "outputs": [],
      "source": [
        "# Step 2: Define Function to Generate Classification Reports and Heatmaps\n",
        "from sklearn.metrics import classification_report, confusion_matrix\n",
        "import matplotlib.pyplot as plt\n",
        "import seaborn as sns\n",
        "import numpy as np\n",
        "import tensorflow as tf\n",
        "\n",
        "def plot_confusion_matrix(cm, class_names, title):\n",
        "    plt.figure(figsize=(8, 6))\n",
        "    sns.heatmap(cm, annot=True, fmt='d', cmap='Blues', xticklabels=class_names, yticklabels=class_names)\n",
        "    plt.xlabel('Predicted')\n",
        "    plt.ylabel('True')\n",
        "    plt.title(title)\n",
        "    plt.show()\n",
        "\n",
        "def generate_classification_report_and_heatmap(model, X_test, y_test, vectorizer_name, model_name):\n",
        "    # Ensure prediction is run on CPU to avoid GPU errors\n",
        "    with tf.device('/CPU:0'):\n",
        "        # Predict the classes\n",
        "        y_pred = model.predict(X_test)\n",
        "        y_pred = np.argmax(y_pred, axis=1)\n",
        "\n",
        "    # Generate classification report\n",
        "    print(f\"Classification Report for {model_name} with {vectorizer_name}:\")\n",
        "    print(classification_report(y_test, y_pred, target_names=target_names))\n",
        "\n",
        "    # Generate and plot confusion matrix\n",
        "    cm = confusion_matrix(y_test, y_pred)\n",
        "    plot_confusion_matrix(cm, target_names, f'Confusion Matrix for {model_name} using {vectorizer_name}')\n"
      ]
    },
    {
      "cell_type": "markdown",
      "metadata": {
        "id": "b2c98liS6InV"
      },
      "source": [
        "### Imports:\n",
        "- **`classification_report`:** Provides a text summary of the precision, recall, F1-score, and support for each class.\n",
        "- **`confusion_matrix`:** Computes the confusion matrix to evaluate the accuracy of a classification.\n",
        "- **`matplotlib.pyplot`:** Used for plotting graphs and visualizations.\n",
        "- **`seaborn`:** Provides a high-level interface for drawing attractive and informative statistical graphics.\n",
        "- **`numpy`:** Supports array operations and numerical computations.\n",
        "- **`tensorflow`:** Used for loading models and making predictions.\n",
        "\n",
        "\n",
        "\n"
      ]
    },
    {
      "cell_type": "code",
      "execution_count": null,
      "metadata": {
        "id": "XXlNadID6InV",
        "outputId": "413e8cd4-318a-4105-ef13-167824a1cb95"
      },
      "outputs": [
        {
          "name": "stdout",
          "output_type": "stream",
          "text": [
            "10000/10000 [==============================] - 16s 2ms/step\n",
            "Classification Report for Logistic Regression Mimic with CountVectorizer:\n",
            "              precision    recall  f1-score   support\n",
            "\n",
            "           0       0.79      0.74      0.77    159494\n",
            "           4       0.76      0.80      0.78    160506\n",
            "\n",
            "    accuracy                           0.77    320000\n",
            "   macro avg       0.77      0.77      0.77    320000\n",
            "weighted avg       0.77      0.77      0.77    320000\n",
            "\n"
          ]
        },
        {
          "data": {
            "image/png": "[encoded data removed]",
            "text/plain": [
              "<Figure size 800x600 with 2 Axes>"
            ]
          },
          "metadata": {},
          "output_type": "display_data"
        },
        {
          "name": "stdout",
          "output_type": "stream",
          "text": [
            "10000/10000 [==============================] - 11s 1ms/step\n",
            "Classification Report for Logistic Regression Mimic with TFIDFVectorizer:\n",
            "              precision    recall  f1-score   support\n",
            "\n",
            "           0       0.78      0.76      0.77    159494\n",
            "           4       0.77      0.79      0.78    160506\n",
            "\n",
            "    accuracy                           0.77    320000\n",
            "   macro avg       0.77      0.77      0.77    320000\n",
            "weighted avg       0.77      0.77      0.77    320000\n",
            "\n"
          ]
        },
        {
          "data": {
            "image/png": "[encoded data removed]",
            "text/plain": [
              "<Figure size 800x600 with 2 Axes>"
            ]
          },
          "metadata": {},
          "output_type": "display_data"
        },
        {
          "name": "stdout",
          "output_type": "stream",
          "text": [
            "10000/10000 [==============================] - 51s 5ms/step\n",
            "Classification Report for SVC Mimic with CountVectorizer:\n",
            "              precision    recall  f1-score   support\n",
            "\n",
            "           0       0.79      0.78      0.78    159494\n",
            "           4       0.78      0.79      0.79    160506\n",
            "\n",
            "    accuracy                           0.79    320000\n",
            "   macro avg       0.79      0.79      0.79    320000\n",
            "weighted avg       0.79      0.79      0.79    320000\n",
            "\n"
          ]
        },
        {
          "data": {
            "image/png": "[encoded data removed]",
            "text/plain": [
              "<Figure size 800x600 with 2 Axes>"
            ]
          },
          "metadata": {},
          "output_type": "display_data"
        },
        {
          "name": "stdout",
          "output_type": "stream",
          "text": [
            "10000/10000 [==============================] - 51s 5ms/step\n",
            "Classification Report for SVC Mimic with TFIDFVectorizer:\n",
            "              precision    recall  f1-score   support\n",
            "\n",
            "           0       0.79      0.78      0.78    159494\n",
            "           4       0.78      0.79      0.79    160506\n",
            "\n",
            "    accuracy                           0.79    320000\n",
            "   macro avg       0.79      0.79      0.79    320000\n",
            "weighted avg       0.79      0.79      0.79    320000\n",
            "\n"
          ]
        },
        {
          "data": {
            "image/png": "[encoded data removed]",
            "text/plain": [
              "<Figure size 800x600 with 2 Axes>"
            ]
          },
          "metadata": {},
          "output_type": "display_data"
        },
        {
          "name": "stdout",
          "output_type": "stream",
          "text": [
            "10000/10000 [==============================] - 74s 7ms/step\n",
            "Classification Report for Random Forest Mimic with CountVectorizer:\n",
            "              precision    recall  f1-score   support\n",
            "\n",
            "           0       0.79      0.78      0.78    159494\n",
            "           4       0.79      0.79      0.79    160506\n",
            "\n",
            "    accuracy                           0.79    320000\n",
            "   macro avg       0.79      0.79      0.79    320000\n",
            "weighted avg       0.79      0.79      0.79    320000\n",
            "\n"
          ]
        },
        {
          "data": {
            "image/png": "[encoded data removed]",
            "text/plain": [
              "<Figure size 800x600 with 2 Axes>"
            ]
          },
          "metadata": {},
          "output_type": "display_data"
        },
        {
          "name": "stdout",
          "output_type": "stream",
          "text": [
            "10000/10000 [==============================] - 67s 7ms/step\n",
            "Classification Report for Random Forest Mimic with TFIDFVectorizer:\n",
            "              precision    recall  f1-score   support\n",
            "\n",
            "           0       0.79      0.78      0.78    159494\n",
            "           4       0.78      0.80      0.79    160506\n",
            "\n",
            "    accuracy                           0.79    320000\n",
            "   macro avg       0.79      0.79      0.79    320000\n",
            "weighted avg       0.79      0.79      0.79    320000\n",
            "\n"
          ]
        },
        {
          "data": {
            "image/png": "[encoded data removed]",
            "text/plain": [
              "<Figure size 800x600 with 2 Axes>"
            ]
          },
          "metadata": {},
          "output_type": "display_data"
        }
      ],
      "source": [
        "# Generate reports for Logistic Regression Mimic Model\n",
        "generate_classification_report_and_heatmap(logistic_regression_mimic_count, X_test_count.toarray(), y_test, 'CountVectorizer', 'Logistic Regression Mimic')\n",
        "generate_classification_report_and_heatmap(logistic_regression_mimic_tfidf, X_test_tfidf.toarray(), y_test, 'TFIDFVectorizer', 'Logistic Regression Mimic')\n",
        "\n",
        "# Generate reports for SVC Mimic Model\n",
        "generate_classification_report_and_heatmap(svc_mimic_count, X_test_count.toarray(), y_test, 'CountVectorizer', 'SVC Mimic')\n",
        "generate_classification_report_and_heatmap(svc_mimic_tfidf, X_test_tfidf.toarray(), y_test, 'TFIDFVectorizer', 'SVC Mimic')\n",
        "\n",
        "# Generate reports for Random Forest Mimic Model\n",
        "generate_classification_report_and_heatmap(random_forest_mimic_count, X_test_count.toarray(), y_test, 'CountVectorizer', 'Random Forest Mimic')\n",
        "generate_classification_report_and_heatmap(random_forest_mimic_tfidf, X_test_tfidf.toarray(), y_test, 'TFIDFVectorizer', 'Random Forest Mimic')\n"
      ]
    },
    {
      "cell_type": "markdown",
      "metadata": {
        "id": "ivFO0GIz6InV"
      },
      "source": [
        "\n",
        "### Key Observations:\n",
        "1. **Accuracy and F1-Score**:\n",
        "   - All models achieve similar accuracy and F1-scores, generally around 77-79%, indicating consistent performance across the different vectorization methods and classifiers.\n",
        "   - Logistic Regression and SVC both perform slightly better with TFIDFVectorizer, showing marginal improvements in recall for class '4'.\n",
        "   - Random Forest achieves the highest precision and recall using CountVectorizer, but the improvement is minimal compared to TFIDFVectorizer.\n",
        "\n",
        "2. **Confusion Matrix Insights**:\n",
        "   - **Logistic Regression with CountVectorizer** shows more misclassifications between classes '0' and '4' compared to TFIDFVectorizer.\n",
        "   - **SVC with TFIDFVectorizer** has the best balance in classification with slightly fewer misclassifications in both classes.\n",
        "   - **Random Forest with CountVectorizer** shows a higher count of true positive predictions for class '0' and slightly fewer false positives for class '4'.\n",
        "\n",
        "3. **Classifier Performance**:\n",
        "   - **Logistic Regression**: Consistent but slightly less effective than SVC and Random Forest in managing false positives and negatives.\n",
        "   - **SVC**: Provides a strong balance between precision and recall, especially with TFIDFVectorizer.\n",
        "   - **Random Forest**: Shows robust performance in identifying true negatives and positives but is marginally less effective with TFIDFVectorizer in minimizing false positives for class '4'.\n",
        "\n",
        "### Conclusion:\n",
        "- **Best Model**: SVC with TFIDFVectorizer seems to offer the most balanced performance across all metrics, making it a reliable choice for general classification tasks.\n",
        "- **Vectorizer Choice**: TFIDFVectorizer slightly outperforms CountVectorizer across all models, especially in handling misclassifications between classes.\n",
        "- **Overall Recommendation**: For balanced performance with fewer misclassifications, SVC with TFIDFVectorizer is recommended. However, if interpretability and simpler models are preferred, Logistic Regression with TFIDFVectorizer also offers competitive performance.\n",
        "\n"
      ]
    },
    {
      "cell_type": "code",
      "source": [
        "!apt-get install texlive texlive-xetex texlive-latex-extra pandoc"
      ],
      "metadata": {
        "colab": {
          "base_uri": "https://localhost:8080/"
        },
        "id": "EXAEHDJB_qnW",
        "outputId": "657034ed-a814-466a-9786-7a26acdecc87",
        "collapsed": true
      },
      "execution_count": 1,
      "outputs": [
        {
          "output_type": "stream",
          "name": "stdout",
          "text": [
            "Reading package lists... Done\n",
            "Building dependency tree... Done\n",
            "Reading state information... Done\n",
            "The following additional packages will be installed:\n",
            "  dvisvgm fonts-droid-fallback fonts-lato fonts-lmodern fonts-noto-mono fonts-texgyre\n",
            "  fonts-urw-base35 libapache-pom-java libcmark-gfm-extensions0.29.0.gfm.3 libcmark-gfm0.29.0.gfm.3\n",
            "  libcommons-logging-java libcommons-parent-java libfontbox-java libfontenc1 libgs9 libgs9-common\n",
            "  libidn12 libijs-0.35 libjbig2dec0 libkpathsea6 libpdfbox-java libptexenc1 libruby3.0 libsynctex2\n",
            "  libteckit0 libtexlua53 libtexluajit2 libwoff1 libzzip-0-13 lmodern pandoc-data poppler-data\n",
            "  preview-latex-style rake ruby ruby-net-telnet ruby-rubygems ruby-webrick ruby-xmlrpc ruby3.0\n",
            "  rubygems-integration t1utils teckit tex-common tex-gyre texlive-base texlive-binaries\n",
            "  texlive-fonts-recommended texlive-latex-base texlive-latex-recommended texlive-pictures\n",
            "  texlive-plain-generic tipa xfonts-encodings xfonts-utils\n",
            "Suggested packages:\n",
            "  fonts-noto fonts-freefont-otf | fonts-freefont-ttf libavalon-framework-java\n",
            "  libcommons-logging-java-doc libexcalibur-logkit-java liblog4j1.2-java texlive-luatex\n",
            "  pandoc-citeproc context wkhtmltopdf librsvg2-bin groff ghc nodejs php python libjs-mathjax\n",
            "  libjs-katex citation-style-language-styles poppler-utils ghostscript fonts-japanese-mincho\n",
            "  | fonts-ipafont-mincho fonts-japanese-gothic | fonts-ipafont-gothic fonts-arphic-ukai\n",
            "  fonts-arphic-uming fonts-nanum ri ruby-dev bundler debhelper gv | postscript-viewer perl-tk xpdf\n",
            "  | pdf-viewer xzdec texlive-fonts-recommended-doc texlive-latex-base-doc python3-pygments\n",
            "  icc-profiles libfile-which-perl libspreadsheet-parseexcel-perl texlive-latex-extra-doc\n",
            "  texlive-latex-recommended-doc texlive-pstricks dot2tex prerex texlive-pictures-doc vprerex\n",
            "  default-jre-headless tipa-doc\n",
            "The following NEW packages will be installed:\n",
            "  dvisvgm fonts-droid-fallback fonts-lato fonts-lmodern fonts-noto-mono fonts-texgyre\n",
            "  fonts-urw-base35 libapache-pom-java libcmark-gfm-extensions0.29.0.gfm.3 libcmark-gfm0.29.0.gfm.3\n",
            "  libcommons-logging-java libcommons-parent-java libfontbox-java libfontenc1 libgs9 libgs9-common\n",
            "  libidn12 libijs-0.35 libjbig2dec0 libkpathsea6 libpdfbox-java libptexenc1 libruby3.0 libsynctex2\n",
            "  libteckit0 libtexlua53 libtexluajit2 libwoff1 libzzip-0-13 lmodern pandoc pandoc-data\n",
            "  poppler-data preview-latex-style rake ruby ruby-net-telnet ruby-rubygems ruby-webrick ruby-xmlrpc\n",
            "  ruby3.0 rubygems-integration t1utils teckit tex-common tex-gyre texlive texlive-base\n",
            "  texlive-binaries texlive-fonts-recommended texlive-latex-base texlive-latex-extra\n",
            "  texlive-latex-recommended texlive-pictures texlive-plain-generic texlive-xetex tipa\n",
            "  xfonts-encodings xfonts-utils\n",
            "0 upgraded, 59 newly installed, 0 to remove and 4 not upgraded.\n",
            "Need to get 202 MB of archives.\n",
            "After this operation, 728 MB of additional disk space will be used.\n",
            "Get:1 http://archive.ubuntu.com/ubuntu jammy/main amd64 fonts-droid-fallback all 1:6.0.1r16-1.1build1 [1,805 kB]\n",
            "Get:2 http://archive.ubuntu.com/ubuntu jammy/main amd64 fonts-lato all 2.0-2.1 [2,696 kB]\n",
            "Get:3 http://archive.ubuntu.com/ubuntu jammy/main amd64 poppler-data all 0.4.11-1 [2,171 kB]\n",
            "Get:4 http://archive.ubuntu.com/ubuntu jammy/universe amd64 tex-common all 6.17 [33.7 kB]\n",
            "Get:5 http://archive.ubuntu.com/ubuntu jammy/main amd64 fonts-urw-base35 all 20200910-1 [6,367 kB]\n",
            "Get:6 http://archive.ubuntu.com/ubuntu jammy-updates/main amd64 libgs9-common all 9.55.0~dfsg1-0ubuntu5.9 [752 kB]\n",
            "Get:7 http://archive.ubuntu.com/ubuntu jammy-updates/main amd64 libidn12 amd64 1.38-4ubuntu1 [60.0 kB]\n",
            "Get:8 http://archive.ubuntu.com/ubuntu jammy/main amd64 libijs-0.35 amd64 0.35-15build2 [16.5 kB]\n",
            "Get:9 http://archive.ubuntu.com/ubuntu jammy/main amd64 libjbig2dec0 amd64 0.19-3build2 [64.7 kB]\n",
            "Get:10 http://archive.ubuntu.com/ubuntu jammy-updates/main amd64 libgs9 amd64 9.55.0~dfsg1-0ubuntu5.9 [5,033 kB]\n",
            "Get:11 http://archive.ubuntu.com/ubuntu jammy-updates/main amd64 libkpathsea6 amd64 2021.20210626.59705-1ubuntu0.2 [60.4 kB]\n",
            "Get:12 http://archive.ubuntu.com/ubuntu jammy/main amd64 libwoff1 amd64 1.0.2-1build4 [45.2 kB]\n",
            "Get:13 http://archive.ubuntu.com/ubuntu jammy/universe amd64 dvisvgm amd64 2.13.1-1 [1,221 kB]\n",
            "Get:14 http://archive.ubuntu.com/ubuntu jammy/universe amd64 fonts-lmodern all 2.004.5-6.1 [4,532 kB]\n",
            "Get:15 http://archive.ubuntu.com/ubuntu jammy/main amd64 fonts-noto-mono all 20201225-1build1 [397 kB]\n",
            "Get:16 http://archive.ubuntu.com/ubuntu jammy/universe amd64 fonts-texgyre all 20180621-3.1 [10.2 MB]\n",
            "Get:17 http://archive.ubuntu.com/ubuntu jammy/universe amd64 libapache-pom-java all 18-1 [4,720 B]\n",
            "Get:18 http://archive.ubuntu.com/ubuntu jammy/universe amd64 libcmark-gfm0.29.0.gfm.3 amd64 0.29.0.gfm.3-3 [115 kB]\n",
            "Get:19 http://archive.ubuntu.com/ubuntu jammy/universe amd64 libcmark-gfm-extensions0.29.0.gfm.3 amd64 0.29.0.gfm.3-3 [25.1 kB]\n",
            "Get:20 http://archive.ubuntu.com/ubuntu jammy/universe amd64 libcommons-parent-java all 43-1 [10.8 kB]\n",
            "Get:21 http://archive.ubuntu.com/ubuntu jammy/universe amd64 libcommons-logging-java all 1.2-2 [60.3 kB]\n",
            "Get:22 http://archive.ubuntu.com/ubuntu jammy/main amd64 libfontenc1 amd64 1:1.1.4-1build3 [14.7 kB]\n",
            "Get:23 http://archive.ubuntu.com/ubuntu jammy-updates/main amd64 libptexenc1 amd64 2021.20210626.59705-1ubuntu0.2 [39.1 kB]\n",
            "Get:24 http://archive.ubuntu.com/ubuntu jammy/main amd64 rubygems-integration all 1.18 [5,336 B]\n",
            "Get:25 http://archive.ubuntu.com/ubuntu jammy-updates/main amd64 ruby3.0 amd64 3.0.2-7ubuntu2.7 [50.1 kB]\n",
            "Get:26 http://archive.ubuntu.com/ubuntu jammy/main amd64 ruby-rubygems all 3.3.5-2 [228 kB]\n",
            "Get:27 http://archive.ubuntu.com/ubuntu jammy/main amd64 ruby amd64 1:3.0~exp1 [5,100 B]\n",
            "Get:28 http://archive.ubuntu.com/ubuntu jammy/main amd64 rake all 13.0.6-2 [61.7 kB]\n",
            "Get:29 http://archive.ubuntu.com/ubuntu jammy/main amd64 ruby-net-telnet all 0.1.1-2 [12.6 kB]\n",
            "Get:30 http://archive.ubuntu.com/ubuntu jammy/universe amd64 ruby-webrick all 1.7.0-3 [51.8 kB]\n",
            "Get:31 http://archive.ubuntu.com/ubuntu jammy-updates/main amd64 ruby-xmlrpc all 0.3.2-1ubuntu0.1 [24.9 kB]\n",
            "Get:32 http://archive.ubuntu.com/ubuntu jammy-updates/main amd64 libruby3.0 amd64 3.0.2-7ubuntu2.7 [5,113 kB]\n",
            "Get:33 http://archive.ubuntu.com/ubuntu jammy-updates/main amd64 libsynctex2 amd64 2021.20210626.59705-1ubuntu0.2 [55.6 kB]\n",
            "Get:34 http://archive.ubuntu.com/ubuntu jammy/universe amd64 libteckit0 amd64 2.5.11+ds1-1 [421 kB]\n",
            "Get:35 http://archive.ubuntu.com/ubuntu jammy-updates/main amd64 libtexlua53 amd64 2021.20210626.59705-1ubuntu0.2 [120 kB]\n",
            "Get:36 http://archive.ubuntu.com/ubuntu jammy-updates/main amd64 libtexluajit2 amd64 2021.20210626.59705-1ubuntu0.2 [267 kB]\n",
            "Get:37 http://archive.ubuntu.com/ubuntu jammy/universe amd64 libzzip-0-13 amd64 0.13.72+dfsg.1-1.1 [27.0 kB]\n",
            "Get:38 http://archive.ubuntu.com/ubuntu jammy/main amd64 xfonts-encodings all 1:1.0.5-0ubuntu2 [578 kB]\n",
            "Get:39 http://archive.ubuntu.com/ubuntu jammy/main amd64 xfonts-utils amd64 1:7.7+6build2 [94.6 kB]\n",
            "Get:40 http://archive.ubuntu.com/ubuntu jammy/universe amd64 lmodern all 2.004.5-6.1 [9,471 kB]\n",
            "Get:41 http://archive.ubuntu.com/ubuntu jammy/universe amd64 pandoc-data all 2.9.2.1-3ubuntu2 [81.8 kB]\n",
            "Get:42 http://archive.ubuntu.com/ubuntu jammy/universe amd64 pandoc amd64 2.9.2.1-3ubuntu2 [20.3 MB]\n",
            "Get:43 http://archive.ubuntu.com/ubuntu jammy/universe amd64 preview-latex-style all 12.2-1ubuntu1 [185 kB]\n",
            "Get:44 http://archive.ubuntu.com/ubuntu jammy/main amd64 t1utils amd64 1.41-4build2 [61.3 kB]\n",
            "Get:45 http://archive.ubuntu.com/ubuntu jammy/universe amd64 teckit amd64 2.5.11+ds1-1 [699 kB]\n",
            "Get:46 http://archive.ubuntu.com/ubuntu jammy/universe amd64 tex-gyre all 20180621-3.1 [6,209 kB]\n",
            "Get:47 http://archive.ubuntu.com/ubuntu jammy-updates/universe amd64 texlive-binaries amd64 2021.20210626.59705-1ubuntu0.2 [9,860 kB]\n",
            "Get:48 http://archive.ubuntu.com/ubuntu jammy/universe amd64 texlive-base all 2021.20220204-1 [21.0 MB]\n",
            "Get:49 http://archive.ubuntu.com/ubuntu jammy/universe amd64 texlive-fonts-recommended all 2021.20220204-1 [4,972 kB]\n",
            "Get:50 http://archive.ubuntu.com/ubuntu jammy/universe amd64 texlive-latex-base all 2021.20220204-1 [1,128 kB]\n",
            "Get:51 http://archive.ubuntu.com/ubuntu jammy/universe amd64 texlive-latex-recommended all 2021.20220204-1 [14.4 MB]\n",
            "Get:52 http://archive.ubuntu.com/ubuntu jammy/universe amd64 texlive all 2021.20220204-1 [14.3 kB]\n",
            "Get:53 http://archive.ubuntu.com/ubuntu jammy/universe amd64 libfontbox-java all 1:1.8.16-2 [207 kB]\n",
            "Get:54 http://archive.ubuntu.com/ubuntu jammy/universe amd64 libpdfbox-java all 1:1.8.16-2 [5,199 kB]\n",
            "Get:55 http://archive.ubuntu.com/ubuntu jammy/universe amd64 texlive-pictures all 2021.20220204-1 [8,720 kB]\n",
            "Get:56 http://archive.ubuntu.com/ubuntu jammy/universe amd64 texlive-latex-extra all 2021.20220204-1 [13.9 MB]\n",
            "Get:57 http://archive.ubuntu.com/ubuntu jammy/universe amd64 texlive-plain-generic all 2021.20220204-1 [27.5 MB]\n",
            "Get:58 http://archive.ubuntu.com/ubuntu jammy/universe amd64 tipa all 2:1.3-21 [2,967 kB]\n",
            "Get:59 http://archive.ubuntu.com/ubuntu jammy/universe amd64 texlive-xetex all 2021.20220204-1 [12.4 MB]\n",
            "Fetched 202 MB in 3s (60.2 MB/s)\n",
            "Extracting templates from packages: 100%\n",
            "Preconfiguring packages ...\n",
            "Selecting previously unselected package fonts-droid-fallback.\n",
            "(Reading database ... 119602 files and directories currently installed.)\n",
            "Preparing to unpack .../00-fonts-droid-fallback_1%3a6.0.1r16-1.1build1_all.deb ...\n",
            "Unpacking fonts-droid-fallback (1:6.0.1r16-1.1build1) ...\n",
            "Selecting previously unselected package fonts-lato.\n",
            "Preparing to unpack .../01-fonts-lato_2.0-2.1_all.deb ...\n",
            "Unpacking fonts-lato (2.0-2.1) ...\n",
            "Selecting previously unselected package poppler-data.\n",
            "Preparing to unpack .../02-poppler-data_0.4.11-1_all.deb ...\n",
            "Unpacking poppler-data (0.4.11-1) ...\n",
            "Selecting previously unselected package tex-common.\n",
            "Preparing to unpack .../03-tex-common_6.17_all.deb ...\n",
            "Unpacking tex-common (6.17) ...\n",
            "Selecting previously unselected package fonts-urw-base35.\n",
            "Preparing to unpack .../04-fonts-urw-base35_20200910-1_all.deb ...\n",
            "Unpacking fonts-urw-base35 (20200910-1) ...\n",
            "Selecting previously unselected package libgs9-common.\n",
            "Preparing to unpack .../05-libgs9-common_9.55.0~dfsg1-0ubuntu5.9_all.deb ...\n",
            "Unpacking libgs9-common (9.55.0~dfsg1-0ubuntu5.9) ...\n",
            "Selecting previously unselected package libidn12:amd64.\n",
            "Preparing to unpack .../06-libidn12_1.38-4ubuntu1_amd64.deb ...\n",
            "Unpacking libidn12:amd64 (1.38-4ubuntu1) ...\n",
            "Selecting previously unselected package libijs-0.35:amd64.\n",
            "Preparing to unpack .../07-libijs-0.35_0.35-15build2_amd64.deb ...\n",
            "Unpacking libijs-0.35:amd64 (0.35-15build2) ...\n",
            "Selecting previously unselected package libjbig2dec0:amd64.\n",
            "Preparing to unpack .../08-libjbig2dec0_0.19-3build2_amd64.deb ...\n",
            "Unpacking libjbig2dec0:amd64 (0.19-3build2) ...\n",
            "Selecting previously unselected package libgs9:amd64.\n",
            "Preparing to unpack .../09-libgs9_9.55.0~dfsg1-0ubuntu5.9_amd64.deb ...\n",
            "Unpacking libgs9:amd64 (9.55.0~dfsg1-0ubuntu5.9) ...\n",
            "Selecting previously unselected package libkpathsea6:amd64.\n",
            "Preparing to unpack .../10-libkpathsea6_2021.20210626.59705-1ubuntu0.2_amd64.deb ...\n",
            "Unpacking libkpathsea6:amd64 (2021.20210626.59705-1ubuntu0.2) ...\n",
            "Selecting previously unselected package libwoff1:amd64.\n",
            "Preparing to unpack .../11-libwoff1_1.0.2-1build4_amd64.deb ...\n",
            "Unpacking libwoff1:amd64 (1.0.2-1build4) ...\n",
            "Selecting previously unselected package dvisvgm.\n",
            "Preparing to unpack .../12-dvisvgm_2.13.1-1_amd64.deb ...\n",
            "Unpacking dvisvgm (2.13.1-1) ...\n",
            "Selecting previously unselected package fonts-lmodern.\n",
            "Preparing to unpack .../13-fonts-lmodern_2.004.5-6.1_all.deb ...\n",
            "Unpacking fonts-lmodern (2.004.5-6.1) ...\n",
            "Selecting previously unselected package fonts-noto-mono.\n",
            "Preparing to unpack .../14-fonts-noto-mono_20201225-1build1_all.deb ...\n",
            "Unpacking fonts-noto-mono (20201225-1build1) ...\n",
            "Selecting previously unselected package fonts-texgyre.\n",
            "Preparing to unpack .../15-fonts-texgyre_20180621-3.1_all.deb ...\n",
            "Unpacking fonts-texgyre (20180621-3.1) ...\n",
            "Selecting previously unselected package libapache-pom-java.\n",
            "Preparing to unpack .../16-libapache-pom-java_18-1_all.deb ...\n",
            "Unpacking libapache-pom-java (18-1) ...\n",
            "Selecting previously unselected package libcmark-gfm0.29.0.gfm.3:amd64.\n",
            "Preparing to unpack .../17-libcmark-gfm0.29.0.gfm.3_0.29.0.gfm.3-3_amd64.deb ...\n",
            "Unpacking libcmark-gfm0.29.0.gfm.3:amd64 (0.29.0.gfm.3-3) ...\n",
            "Selecting previously unselected package libcmark-gfm-extensions0.29.0.gfm.3:amd64.\n",
            "Preparing to unpack .../18-libcmark-gfm-extensions0.29.0.gfm.3_0.29.0.gfm.3-3_amd64.deb ...\n",
            "Unpacking libcmark-gfm-extensions0.29.0.gfm.3:amd64 (0.29.0.gfm.3-3) ...\n",
            "Selecting previously unselected package libcommons-parent-java.\n",
            "Preparing to unpack .../19-libcommons-parent-java_43-1_all.deb ...\n",
            "Unpacking libcommons-parent-java (43-1) ...\n",
            "Selecting previously unselected package libcommons-logging-java.\n",
            "Preparing to unpack .../20-libcommons-logging-java_1.2-2_all.deb ...\n",
            "Unpacking libcommons-logging-java (1.2-2) ...\n",
            "Selecting previously unselected package libfontenc1:amd64.\n",
            "Preparing to unpack .../21-libfontenc1_1%3a1.1.4-1build3_amd64.deb ...\n",
            "Unpacking libfontenc1:amd64 (1:1.1.4-1build3) ...\n",
            "Selecting previously unselected package libptexenc1:amd64.\n",
            "Preparing to unpack .../22-libptexenc1_2021.20210626.59705-1ubuntu0.2_amd64.deb ...\n",
            "Unpacking libptexenc1:amd64 (2021.20210626.59705-1ubuntu0.2) ...\n",
            "Selecting previously unselected package rubygems-integration.\n",
            "Preparing to unpack .../23-rubygems-integration_1.18_all.deb ...\n",
            "Unpacking rubygems-integration (1.18) ...\n",
            "Selecting previously unselected package ruby3.0.\n",
            "Preparing to unpack .../24-ruby3.0_3.0.2-7ubuntu2.7_amd64.deb ...\n",
            "Unpacking ruby3.0 (3.0.2-7ubuntu2.7) ...\n",
            "Selecting previously unselected package ruby-rubygems.\n",
            "Preparing to unpack .../25-ruby-rubygems_3.3.5-2_all.deb ...\n",
            "Unpacking ruby-rubygems (3.3.5-2) ...\n",
            "Selecting previously unselected package ruby.\n",
            "Preparing to unpack .../26-ruby_1%3a3.0~exp1_amd64.deb ...\n",
            "Unpacking ruby (1:3.0~exp1) ...\n",
            "Selecting previously unselected package rake.\n",
            "Preparing to unpack .../27-rake_13.0.6-2_all.deb ...\n",
            "Unpacking rake (13.0.6-2) ...\n",
            "Selecting previously unselected package ruby-net-telnet.\n",
            "Preparing to unpack .../28-ruby-net-telnet_0.1.1-2_all.deb ...\n",
            "Unpacking ruby-net-telnet (0.1.1-2) ...\n",
            "Selecting previously unselected package ruby-webrick.\n",
            "Preparing to unpack .../29-ruby-webrick_1.7.0-3_all.deb ...\n",
            "Unpacking ruby-webrick (1.7.0-3) ...\n",
            "Selecting previously unselected package ruby-xmlrpc.\n",
            "Preparing to unpack .../30-ruby-xmlrpc_0.3.2-1ubuntu0.1_all.deb ...\n",
            "Unpacking ruby-xmlrpc (0.3.2-1ubuntu0.1) ...\n",
            "Selecting previously unselected package libruby3.0:amd64.\n",
            "Preparing to unpack .../31-libruby3.0_3.0.2-7ubuntu2.7_amd64.deb ...\n",
            "Unpacking libruby3.0:amd64 (3.0.2-7ubuntu2.7) ...\n",
            "Selecting previously unselected package libsynctex2:amd64.\n",
            "Preparing to unpack .../32-libsynctex2_2021.20210626.59705-1ubuntu0.2_amd64.deb ...\n",
            "Unpacking libsynctex2:amd64 (2021.20210626.59705-1ubuntu0.2) ...\n",
            "Selecting previously unselected package libteckit0:amd64.\n",
            "Preparing to unpack .../33-libteckit0_2.5.11+ds1-1_amd64.deb ...\n",
            "Unpacking libteckit0:amd64 (2.5.11+ds1-1) ...\n",
            "Selecting previously unselected package libtexlua53:amd64.\n",
            "Preparing to unpack .../34-libtexlua53_2021.20210626.59705-1ubuntu0.2_amd64.deb ...\n",
            "Unpacking libtexlua53:amd64 (2021.20210626.59705-1ubuntu0.2) ...\n",
            "Selecting previously unselected package libtexluajit2:amd64.\n",
            "Preparing to unpack .../35-libtexluajit2_2021.20210626.59705-1ubuntu0.2_amd64.deb ...\n",
            "Unpacking libtexluajit2:amd64 (2021.20210626.59705-1ubuntu0.2) ...\n",
            "Selecting previously unselected package libzzip-0-13:amd64.\n",
            "Preparing to unpack .../36-libzzip-0-13_0.13.72+dfsg.1-1.1_amd64.deb ...\n",
            "Unpacking libzzip-0-13:amd64 (0.13.72+dfsg.1-1.1) ...\n",
            "Selecting previously unselected package xfonts-encodings.\n",
            "Preparing to unpack .../37-xfonts-encodings_1%3a1.0.5-0ubuntu2_all.deb ...\n",
            "Unpacking xfonts-encodings (1:1.0.5-0ubuntu2) ...\n",
            "Selecting previously unselected package xfonts-utils.\n",
            "Preparing to unpack .../38-xfonts-utils_1%3a7.7+6build2_amd64.deb ...\n",
            "Unpacking xfonts-utils (1:7.7+6build2) ...\n",
            "Selecting previously unselected package lmodern.\n",
            "Preparing to unpack .../39-lmodern_2.004.5-6.1_all.deb ...\n",
            "Unpacking lmodern (2.004.5-6.1) ...\n",
            "Selecting previously unselected package pandoc-data.\n",
            "Preparing to unpack .../40-pandoc-data_2.9.2.1-3ubuntu2_all.deb ...\n",
            "Unpacking pandoc-data (2.9.2.1-3ubuntu2) ...\n",
            "Selecting previously unselected package pandoc.\n",
            "Preparing to unpack .../41-pandoc_2.9.2.1-3ubuntu2_amd64.deb ...\n",
            "Unpacking pandoc (2.9.2.1-3ubuntu2) ...\n",
            "Selecting previously unselected package preview-latex-style.\n",
            "Preparing to unpack .../42-preview-latex-style_12.2-1ubuntu1_all.deb ...\n",
            "Unpacking preview-latex-style (12.2-1ubuntu1) ...\n",
            "Selecting previously unselected package t1utils.\n",
            "Preparing to unpack .../43-t1utils_1.41-4build2_amd64.deb ...\n",
            "Unpacking t1utils (1.41-4build2) ...\n",
            "Selecting previously unselected package teckit.\n",
            "Preparing to unpack .../44-teckit_2.5.11+ds1-1_amd64.deb ...\n",
            "Unpacking teckit (2.5.11+ds1-1) ...\n",
            "Selecting previously unselected package tex-gyre.\n",
            "Preparing to unpack .../45-tex-gyre_20180621-3.1_all.deb ...\n",
            "Unpacking tex-gyre (20180621-3.1) ...\n",
            "Selecting previously unselected package texlive-binaries.\n",
            "Preparing to unpack .../46-texlive-binaries_2021.20210626.59705-1ubuntu0.2_amd64.deb ...\n",
            "Unpacking texlive-binaries (2021.20210626.59705-1ubuntu0.2) ...\n",
            "Selecting previously unselected package texlive-base.\n",
            "Preparing to unpack .../47-texlive-base_2021.20220204-1_all.deb ...\n",
            "Unpacking texlive-base (2021.20220204-1) ...\n",
            "Selecting previously unselected package texlive-fonts-recommended.\n",
            "Preparing to unpack .../48-texlive-fonts-recommended_2021.20220204-1_all.deb ...\n",
            "Unpacking texlive-fonts-recommended (2021.20220204-1) ...\n",
            "Selecting previously unselected package texlive-latex-base.\n",
            "Preparing to unpack .../49-texlive-latex-base_2021.20220204-1_all.deb ...\n",
            "Unpacking texlive-latex-base (2021.20220204-1) ...\n",
            "Selecting previously unselected package texlive-latex-recommended.\n",
            "Preparing to unpack .../50-texlive-latex-recommended_2021.20220204-1_all.deb ...\n",
            "Unpacking texlive-latex-recommended (2021.20220204-1) ...\n",
            "Selecting previously unselected package texlive.\n",
            "Preparing to unpack .../51-texlive_2021.20220204-1_all.deb ...\n",
            "Unpacking texlive (2021.20220204-1) ...\n",
            "Selecting previously unselected package libfontbox-java.\n",
            "Preparing to unpack .../52-libfontbox-java_1%3a1.8.16-2_all.deb ...\n",
            "Unpacking libfontbox-java (1:1.8.16-2) ...\n",
            "Selecting previously unselected package libpdfbox-java.\n",
            "Preparing to unpack .../53-libpdfbox-java_1%3a1.8.16-2_all.deb ...\n",
            "Unpacking libpdfbox-java (1:1.8.16-2) ...\n",
            "Selecting previously unselected package texlive-pictures.\n",
            "Preparing to unpack .../54-texlive-pictures_2021.20220204-1_all.deb ...\n",
            "Unpacking texlive-pictures (2021.20220204-1) ...\n",
            "Selecting previously unselected package texlive-latex-extra.\n",
            "Preparing to unpack .../55-texlive-latex-extra_2021.20220204-1_all.deb ...\n",
            "Unpacking texlive-latex-extra (2021.20220204-1) ...\n",
            "Selecting previously unselected package texlive-plain-generic.\n",
            "Preparing to unpack .../56-texlive-plain-generic_2021.20220204-1_all.deb ...\n",
            "Unpacking texlive-plain-generic (2021.20220204-1) ...\n",
            "Selecting previously unselected package tipa.\n",
            "Preparing to unpack .../57-tipa_2%3a1.3-21_all.deb ...\n",
            "Unpacking tipa (2:1.3-21) ...\n",
            "Selecting previously unselected package texlive-xetex.\n",
            "Preparing to unpack .../58-texlive-xetex_2021.20220204-1_all.deb ...\n",
            "Unpacking texlive-xetex (2021.20220204-1) ...\n",
            "Setting up fonts-lato (2.0-2.1) ...\n",
            "Setting up fonts-noto-mono (20201225-1build1) ...\n",
            "Setting up libwoff1:amd64 (1.0.2-1build4) ...\n",
            "Setting up libtexlua53:amd64 (2021.20210626.59705-1ubuntu0.2) ...\n",
            "Setting up libijs-0.35:amd64 (0.35-15build2) ...\n",
            "Setting up libtexluajit2:amd64 (2021.20210626.59705-1ubuntu0.2) ...\n",
            "Setting up libfontbox-java (1:1.8.16-2) ...\n",
            "Setting up rubygems-integration (1.18) ...\n",
            "Setting up libzzip-0-13:amd64 (0.13.72+dfsg.1-1.1) ...\n",
            "Setting up fonts-urw-base35 (20200910-1) ...\n",
            "Setting up poppler-data (0.4.11-1) ...\n",
            "Setting up tex-common (6.17) ...\n",
            "update-language: texlive-base not installed and configured, doing nothing!\n",
            "Setting up libfontenc1:amd64 (1:1.1.4-1build3) ...\n",
            "Setting up libjbig2dec0:amd64 (0.19-3build2) ...\n",
            "Setting up libteckit0:amd64 (2.5.11+ds1-1) ...\n",
            "Setting up libapache-pom-java (18-1) ...\n",
            "Setting up ruby-net-telnet (0.1.1-2) ...\n",
            "Setting up xfonts-encodings (1:1.0.5-0ubuntu2) ...\n",
            "Setting up t1utils (1.41-4build2) ...\n",
            "Setting up libidn12:amd64 (1.38-4ubuntu1) ...\n",
            "Setting up fonts-texgyre (20180621-3.1) ...\n",
            "Setting up libkpathsea6:amd64 (2021.20210626.59705-1ubuntu0.2) ...\n",
            "Setting up ruby-webrick (1.7.0-3) ...\n",
            "Setting up libcmark-gfm0.29.0.gfm.3:amd64 (0.29.0.gfm.3-3) ...\n",
            "Setting up fonts-lmodern (2.004.5-6.1) ...\n",
            "Setting up libcmark-gfm-extensions0.29.0.gfm.3:amd64 (0.29.0.gfm.3-3) ...\n",
            "Setting up fonts-droid-fallback (1:6.0.1r16-1.1build1) ...\n",
            "Setting up pandoc-data (2.9.2.1-3ubuntu2) ...\n",
            "Setting up ruby-xmlrpc (0.3.2-1ubuntu0.1) ...\n",
            "Setting up libsynctex2:amd64 (2021.20210626.59705-1ubuntu0.2) ...\n",
            "Setting up libgs9-common (9.55.0~dfsg1-0ubuntu5.9) ...\n",
            "Setting up teckit (2.5.11+ds1-1) ...\n",
            "Setting up libpdfbox-java (1:1.8.16-2) ...\n",
            "Setting up libgs9:amd64 (9.55.0~dfsg1-0ubuntu5.9) ...\n",
            "Setting up preview-latex-style (12.2-1ubuntu1) ...\n",
            "Setting up libcommons-parent-java (43-1) ...\n",
            "Setting up dvisvgm (2.13.1-1) ...\n",
            "Setting up libcommons-logging-java (1.2-2) ...\n",
            "Setting up xfonts-utils (1:7.7+6build2) ...\n",
            "Setting up libptexenc1:amd64 (2021.20210626.59705-1ubuntu0.2) ...\n",
            "Setting up pandoc (2.9.2.1-3ubuntu2) ...\n",
            "Setting up texlive-binaries (2021.20210626.59705-1ubuntu0.2) ...\n",
            "update-alternatives: using /usr/bin/xdvi-xaw to provide /usr/bin/xdvi.bin (xdvi.bin) in auto mode\n",
            "update-alternatives: using /usr/bin/bibtex.original to provide /usr/bin/bibtex (bibtex) in auto mode\n",
            "Setting up lmodern (2.004.5-6.1) ...\n",
            "Setting up texlive-base (2021.20220204-1) ...\n",
            "/usr/bin/ucfr\n",
            "/usr/bin/ucfr\n",
            "/usr/bin/ucfr\n",
            "/usr/bin/ucfr\n",
            "mktexlsr: Updating /var/lib/texmf/ls-R-TEXLIVEDIST... \n",
            "mktexlsr: Updating /var/lib/texmf/ls-R-TEXMFMAIN... \n",
            "mktexlsr: Updating /var/lib/texmf/ls-R... \n",
            "mktexlsr: Done.\n",
            "tl-paper: setting paper size for dvips to a4: /var/lib/texmf/dvips/config/config-paper.ps\n",
            "tl-paper: setting paper size for dvipdfmx to a4: /var/lib/texmf/dvipdfmx/dvipdfmx-paper.cfg\n",
            "tl-paper: setting paper size for xdvi to a4: /var/lib/texmf/xdvi/XDvi-paper\n",
            "tl-paper: setting paper size for pdftex to a4: /var/lib/texmf/tex/generic/tex-ini-files/pdftexconfig.tex\n",
            "Setting up tex-gyre (20180621-3.1) ...\n",
            "Setting up texlive-plain-generic (2021.20220204-1) ...\n",
            "Setting up texlive-latex-base (2021.20220204-1) ...\n",
            "Setting up texlive-latex-recommended (2021.20220204-1) ...\n",
            "Setting up texlive-pictures (2021.20220204-1) ...\n",
            "Setting up texlive-fonts-recommended (2021.20220204-1) ...\n",
            "Setting up tipa (2:1.3-21) ...\n",
            "Setting up texlive (2021.20220204-1) ...\n",
            "Setting up texlive-latex-extra (2021.20220204-1) ...\n",
            "Setting up texlive-xetex (2021.20220204-1) ...\n",
            "Setting up rake (13.0.6-2) ...\n",
            "Setting up libruby3.0:amd64 (3.0.2-7ubuntu2.7) ...\n",
            "Setting up ruby3.0 (3.0.2-7ubuntu2.7) ...\n",
            "Setting up ruby (1:3.0~exp1) ...\n",
            "Setting up ruby-rubygems (3.3.5-2) ...\n",
            "Processing triggers for man-db (2.10.2-1) ...\n",
            "Processing triggers for fontconfig (2.13.1-4.2ubuntu5) ...\n",
            "Processing triggers for libc-bin (2.35-0ubuntu3.8) ...\n",
            "Processing triggers for tex-common (6.17) ...\n",
            "Running updmap-sys. This may take some time... done.\n",
            "Running mktexlsr /var/lib/texmf ... done.\n",
            "Building format(s) --all.\n",
            "\tThis may take some time... done.\n"
          ]
        }
      ]
    },
    {
      "cell_type": "code",
      "source": [
        "!pip install pypandoc"
      ],
      "metadata": {
        "colab": {
          "base_uri": "https://localhost:8080/"
        },
        "id": "9q677UoM_quW",
        "outputId": "34188a54-adde-42eb-8e1b-907df2235deb"
      },
      "execution_count": 2,
      "outputs": [
        {
          "output_type": "stream",
          "name": "stdout",
          "text": [
            "Collecting pypandoc\n",
            "  Downloading pypandoc-1.13-py3-none-any.whl.metadata (16 kB)\n",
            "Downloading pypandoc-1.13-py3-none-any.whl (21 kB)\n",
            "Installing collected packages: pypandoc\n",
            "Successfully installed pypandoc-1.13\n"
          ]
        }
      ]
    },
    {
      "cell_type": "code",
      "source": [
        "from google.colab import drive\n",
        "drive.flush_and_unmount()  # This will unmount the drive\n"
      ],
      "metadata": {
        "id": "d8HiF9G1MgCe",
        "colab": {
          "base_uri": "https://localhost:8080/"
        },
        "outputId": "285cfad2-0937-4390-cff1-ef0fe5451251"
      },
      "execution_count": 4,
      "outputs": [
        {
          "output_type": "stream",
          "name": "stdout",
          "text": [
            "Drive not mounted, so nothing to flush and unmount.\n"
          ]
        }
      ]
    },
    {
      "cell_type": "code",
      "source": [
        "# Mount Google Drive\n",
        "from google.colab import drive\n",
        "drive.mount('/content/drive')"
      ],
      "metadata": {
        "colab": {
          "base_uri": "https://localhost:8080/"
        },
        "id": "bwIPzWQx_qxH",
        "outputId": "fab350f9-5162-4f11-db33-ddc56b0cee87"
      },
      "execution_count": 5,
      "outputs": [
        {
          "output_type": "stream",
          "name": "stdout",
          "text": [
            "Mounted at /content/drive\n"
          ]
        }
      ]
    },
    {
      "cell_type": "code",
      "source": [
        "!jupyter nbconvert --to pdf \"/content/drive/My Drive/Colab Notebooks/Parth_Tripathi_071_A3.ipynb\" --output \"Parth_Tripathi_071_A3_NLP\"\n",
        "\n"
      ],
      "metadata": {
        "colab": {
          "base_uri": "https://localhost:8080/"
        },
        "id": "q70E50gA_q0D",
        "outputId": "c53dca06-1fd3-4d3e-b4fb-6a5b87a3c118"
      },
      "execution_count": 10,
      "outputs": [
        {
          "output_type": "stream",
          "name": "stdout",
          "text": [
            "[NbConvertApp] Converting notebook /content/drive/My Drive/Colab Notebooks/Parth_Tripathi_071_A3.ipynb to pdf\n",
            "[NbConvertApp] Support files will be in Parth_Tripathi_071_A3_NLP_1_files/\n",
            "[NbConvertApp] Making directory ./Parth_Tripathi_071_A3_NLP_1_files\n",
            "[NbConvertApp] Writing 141430 bytes to notebook.tex\n",
            "[NbConvertApp] Building PDF\n",
            "[NbConvertApp] Running xelatex 3 times: ['xelatex', 'notebook.tex', '-quiet']\n",
            "[NbConvertApp] Running bibtex 1 time: ['bibtex', 'notebook']\n",
            "[NbConvertApp] WARNING | bibtex had problems, most likely because there were no citations\n",
            "[NbConvertApp] PDF successfully created\n",
            "[NbConvertApp] Writing 271822 bytes to /content/drive/My Drive/Colab Notebooks/Parth_Tripathi_071_A3_NLP_1.pdf\n"
          ]
        }
      ]
    }
  ],
  "metadata": {
    "kernelspec": {
      "display_name": "Python 3",
      "name": "python3"
    },
    "language_info": {
      "codemirror_mode": {
        "name": "ipython",
        "version": 3
      },
      "file_extension": ".py",
      "mimetype": "text/x-python",
      "name": "python",
      "nbconvert_exporter": "python",
      "pygments_lexer": "ipython3",
      "version": "3.9.18"
    },
    "colab": {
      "provenance": [],
      "gpuType": "V28",
      "include_colab_link": true
    },
    "accelerator": "TPU"
  },
  "nbformat": 4,
  "nbformat_minor": 0
}